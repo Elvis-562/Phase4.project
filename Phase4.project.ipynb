{
 "cells": [
  {
   "cell_type": "markdown",
   "id": "be6ee9ac-802e-4d13-9716-72fc170d9776",
   "metadata": {},
   "source": [
    "# **Twitter Sentiment Analysis**  \n",
    "\n",
    "---\n",
    "**Authors:**\n",
    "\n",
    "1. Elvis Wanjohi (Team Leader)\n",
    "\n",
    "2. Jessica Gichimu\n",
    "\n",
    "3. Jesse Ngugi\n",
    "\n",
    "4. Stephen Gachingu\n",
    "\n",
    "5. Latifa Riziki\n",
    "\n",
    "---\n",
    "\n",
    "## 1. Business Understanding   \n",
    "\n",
    "### 1.1 Business Overview\n",
    "\n",
    "Apple and Google are global technology companies which offer a variety of electronic products and software services. Like any big company, there is public opinion of the products and services they bring to the market. As leaders in the competitive tech industry, their operations depend heavily on customer satisfaction and public perception of their brands.\n",
    "\n",
    "Customer sentiment plays a key role for both companies. Negative opinions expressed online can affect brand image and influence purchasing decisions. By analyzing customer feedback from social media platforms such as Twitter, these companies can gain insights into how users feel about their products and services. This can help identify areas for improvement, respond to customer concerns and strengthen their brand reputation.\n",
    "\n",
    "---\n",
    "\n",
    "### 1.2 Problem Statement\n",
    "\n",
    "Apple and Google’s success rely heavily on maintaining strong customer satisfaction and positive public perception. With users actively sharing opinions on Twitter, analyzing this feedback has become important for improving products and strengthening brand reputation.\n",
    "\n",
    "The main challenge is effectively analyzing this data to understand customer sentiment. To address this, this project builds a sentiment analysis model that classifies tweets about Apple and Google products into positive, negative or neutral categories. \n",
    "\n",
    "---\n",
    "\n",
    "### 1.3 Business Objective\n",
    "\n",
    "#### 1.3.1 Main Objective \n",
    "\n",
    "The main objective of this project is to develop a sentiment classification model that analyzes tweets about Apple and Google products and classifies them as positive, negative or neutral.\n",
    "\n",
    "#### 1.3.2 Specific Objectives\n",
    "\n",
    "The specific objectives of the project are:\n",
    "\n",
    "1. Determine the products and services from Apple or Google that have the largest negative, positive and neutral feedback.\n",
    "\n",
    "2. Preprocess the data through processes such as; Vectorization and tokenization, handling missing values and creating new features with respect to user behavior.\n",
    "\n",
    "3. Evaluate the model performance using Precison, Recall and F1score.\n",
    "\n",
    "4. Identify the most signficant features and important tokens.\n",
    "\n",
    "5. Compare different classification models to determine which performs best for this dataset.\n",
    "\n",
    "#### 1.3.3 Research Questions\n",
    "\n",
    "1. Which products and services from Apple or Google have the largest negative, positive and neutral feedback?\n",
    "\n",
    "2. Which features influence user behavior?\n",
    "\n",
    "3. Which classifier model had the best Precison, Recall and F1 score?\n",
    "\n",
    "4. What are the most significant features and tokens?\n",
    "\n",
    "5. Which classification model performs best for this dataset?\n",
    "\n",
    "---\n",
    "\n",
    "### 1.5 Success Criteria  \n",
    "\n",
    "The success of this project will be assessed in the following ways:\n",
    "\n",
    "1. It should generate insights into how users feel about their products and services.\n",
    "\n",
    "2. A machine learning model should be successfully developed that automatically determines the sentiment of a tweet based on words and tone used in the text.\n",
    "\n",
    " \n",
    "---"
   ]
  },
  {
   "cell_type": "markdown",
   "id": "e26055e3-1c5d-4d64-b8ab-935ae0241563",
   "metadata": {},
   "source": [
    "## 2. Data Understanding\n",
    "\n",
    "This section introduces the Twitter sentiment dataset used for the project. The dataset contains tweets about Apple and Google products, forming the basis for building a sentiment classification model.\n",
    "\n",
    "The aim is to understand the structure and content of the dataset. This involves reviewing the available features, checking their data types and identifying potential issues such as missing values or inconsistencies.\n",
    "\n",
    "By exploring the data at this stage, it is possible to detect quality concerns early and begin considering how the dataset can best be prepared for text cleaning, preprocessing and model development."
   ]
  },
  {
   "cell_type": "markdown",
   "id": "c460afa7",
   "metadata": {},
   "source": [
    "### 2.1 Importing Required Libraries\n",
    "\n",
    "The necessary Python libraries for data handling, visualization and modeling are imported. These include Pandas, NumPy, Seaborn, Matplotlib, Plotly, Scikit-learn, Imbalanced-learn, NLTK and Regex for text preprocessing and analysis."
   ]
  },
  {
   "cell_type": "code",
   "execution_count": 28,
   "id": "92bc3ac1-92c0-4ae3-b338-381a121d7de8",
   "metadata": {},
   "outputs": [],
   "source": [
    "# Import required libraries\n",
    "\n",
    "# Data loading and manipulation\n",
    "import pandas as pd\n",
    "import numpy as np\n",
    "\n",
    "# Text preprocessing and NLP\n",
    "import nltk\n",
    "import re\n",
    "from nltk.corpus import stopwords\n",
    "from nltk.stem import WordNetLemmatizer\n",
    "from nltk.tokenize import word_tokenize\n",
    "nltk.download('stopwords', quiet=True)\n",
    "nltk.download('wordnet', quiet=True)\n",
    "nltk.download('punkt', quiet=True)\n",
    "nltk.download('punkt_tab', quiet=True)\n",
    "\n",
    "# Data visualization\n",
    "import matplotlib.pyplot as plt\n",
    "import seaborn as sns\n",
    "import plotly.express as px\n",
    "import plotly.graph_objects as go\n",
    "from plotly.subplots import make_subplots\n",
    "import plotly.figure_factory as ff\n",
    "import plotly.colors as pc\n",
    "from IPython.display import Image, display\n",
    "\n",
    "# Machine learning and preprocessing\n",
    "from sklearn.model_selection import train_test_split, GridSearchCV, RandomizedSearchCV\n",
    "from sklearn.preprocessing import StandardScaler\n",
    "from sklearn.impute import SimpleImputer\n",
    "from sklearn.base import BaseEstimator, TransformerMixin\n",
    "from sklearn.feature_extraction.text import TfidfVectorizer, CountVectorizer\n",
    "from scipy.sparse import hstack, csr_matrix\n",
    "from imblearn.over_sampling import SMOTE\n",
    "from imblearn.pipeline import Pipeline\n",
    "\n",
    "# Classification algorithms\n",
    "from sklearn.linear_model import LogisticRegression, SGDClassifier\n",
    "from sklearn.ensemble import RandomForestClassifier, GradientBoostingClassifier\n",
    "from sklearn.tree import DecisionTreeClassifier\n",
    "from sklearn.svm import SVC\n",
    "from sklearn.naive_bayes import MultinomialNB\n",
    "from sklearn.neighbors import KNeighborsClassifier\n",
    "from xgboost import XGBClassifier\n",
    "from catboost import CatBoostClassifier\n",
    "\n",
    "# Model evaluation metrics\n",
    "from sklearn.metrics import accuracy_score, f1_score, precision_score, recall_score, classification_report, confusion_matrix\n",
    "\n",
    "# Model interpretation and saving\n",
    "import lime\n",
    "import lime.lime_text\n",
    "import joblib\n",
    "import pickle\n",
    "\n",
    "# Suppress warnings\n",
    "import warnings\n",
    "warnings.filterwarnings('ignore')\n",
    "\n",
    "# Visualization settings\n",
    "sns.set(style=\"whitegrid\")\n",
    "sns.set_theme(rc={'figure.figsize':(11.7,8.27)})"
   ]
  },
  {
   "cell_type": "markdown",
   "id": "8d7f9dcd",
   "metadata": {},
   "source": [
    "#### 2.1.2. Data Loading and Inspection\n",
    "\n",
    "In this section, the Twitter sentiment dataset is loaded from a CSV file into a Pandas DataFrame. Basic inspection functions are applied to confirm successful loading and to preview the structure of the dataset before proceeding with further analysis."
   ]
  },
  {
   "cell_type": "code",
   "execution_count": 29,
   "id": "ddd2072c",
   "metadata": {},
   "outputs": [
    {
     "data": {
      "text/html": [
       "<div>\n",
       "<style scoped>\n",
       "    .dataframe tbody tr th:only-of-type {\n",
       "        vertical-align: middle;\n",
       "    }\n",
       "\n",
       "    .dataframe tbody tr th {\n",
       "        vertical-align: top;\n",
       "    }\n",
       "\n",
       "    .dataframe thead th {\n",
       "        text-align: right;\n",
       "    }\n",
       "</style>\n",
       "<table border=\"1\" class=\"dataframe\">\n",
       "  <thead>\n",
       "    <tr style=\"text-align: right;\">\n",
       "      <th></th>\n",
       "      <th>tweet_text</th>\n",
       "      <th>emotion_in_tweet_is_directed_at</th>\n",
       "      <th>is_there_an_emotion_directed_at_a_brand_or_product</th>\n",
       "    </tr>\n",
       "  </thead>\n",
       "  <tbody>\n",
       "    <tr>\n",
       "      <th>0</th>\n",
       "      <td>.@wesley83 I have a 3G iPhone. After 3 hrs twe...</td>\n",
       "      <td>iPhone</td>\n",
       "      <td>Negative emotion</td>\n",
       "    </tr>\n",
       "    <tr>\n",
       "      <th>1</th>\n",
       "      <td>@jessedee Know about @fludapp ? Awesome iPad/i...</td>\n",
       "      <td>iPad or iPhone App</td>\n",
       "      <td>Positive emotion</td>\n",
       "    </tr>\n",
       "    <tr>\n",
       "      <th>2</th>\n",
       "      <td>@swonderlin Can not wait for #iPad 2 also. The...</td>\n",
       "      <td>iPad</td>\n",
       "      <td>Positive emotion</td>\n",
       "    </tr>\n",
       "    <tr>\n",
       "      <th>3</th>\n",
       "      <td>@sxsw I hope this year's festival isn't as cra...</td>\n",
       "      <td>iPad or iPhone App</td>\n",
       "      <td>Negative emotion</td>\n",
       "    </tr>\n",
       "    <tr>\n",
       "      <th>4</th>\n",
       "      <td>@sxtxstate great stuff on Fri #SXSW: Marissa M...</td>\n",
       "      <td>Google</td>\n",
       "      <td>Positive emotion</td>\n",
       "    </tr>\n",
       "  </tbody>\n",
       "</table>\n",
       "</div>"
      ],
      "text/plain": [
       "                                          tweet_text  \\\n",
       "0  .@wesley83 I have a 3G iPhone. After 3 hrs twe...   \n",
       "1  @jessedee Know about @fludapp ? Awesome iPad/i...   \n",
       "2  @swonderlin Can not wait for #iPad 2 also. The...   \n",
       "3  @sxsw I hope this year's festival isn't as cra...   \n",
       "4  @sxtxstate great stuff on Fri #SXSW: Marissa M...   \n",
       "\n",
       "  emotion_in_tweet_is_directed_at  \\\n",
       "0                          iPhone   \n",
       "1              iPad or iPhone App   \n",
       "2                            iPad   \n",
       "3              iPad or iPhone App   \n",
       "4                          Google   \n",
       "\n",
       "  is_there_an_emotion_directed_at_a_brand_or_product  \n",
       "0                                   Negative emotion  \n",
       "1                                   Positive emotion  \n",
       "2                                   Positive emotion  \n",
       "3                                   Negative emotion  \n",
       "4                                   Positive emotion  "
      ]
     },
     "execution_count": 29,
     "metadata": {},
     "output_type": "execute_result"
    }
   ],
   "source": [
    "# Load the dataset\n",
    "data = pd.read_csv(\"c:\\judge-1377884607_tweet_product_company.csv\", encoding='ISO-8859-1')\n",
    "\n",
    "# Display the first few rows of the dataset\n",
    "data.head()"
   ]
  },
  {
   "cell_type": "markdown",
   "id": "88edee7b",
   "metadata": {},
   "source": [
    "Each row in the dataset represents a tweet posted by a user. The columns include:\n",
    "\n",
    "- tweet_text: The text content of the tweet used for sentiment classification.\n",
    "\n",
    "- emotion_in_tweet_is_directed_at: The target of the emotion expressed in the tweet (e.g., Apple or Google).\n",
    "\n",
    "- is_there_an_emotion_directed_at_a_brand_or_product: Indicates whether the tweet expresses an emotion directed at a brand or product. This serves as the target label for classification.\n",
    "\n",
    "This information provides the foundation for analyzing user sentiments toward different brands and for developing sentiment classification models."
   ]
  },
  {
   "cell_type": "code",
   "execution_count": 30,
   "id": "012c7439",
   "metadata": {},
   "outputs": [
    {
     "data": {
      "text/plain": [
       "(9093, 3)"
      ]
     },
     "execution_count": 30,
     "metadata": {},
     "output_type": "execute_result"
    }
   ],
   "source": [
    "# Check the shape of the dataset\n",
    "data.shape"
   ]
  },
  {
   "cell_type": "markdown",
   "id": "ed6d0b21",
   "metadata": {},
   "source": [
    "- The dataset has 9093 rows and 3 columns."
   ]
  },
  {
   "cell_type": "code",
   "execution_count": 31,
   "id": "2300fdc2",
   "metadata": {},
   "outputs": [
    {
     "name": "stdout",
     "output_type": "stream",
     "text": [
      "<class 'pandas.core.frame.DataFrame'>\n",
      "RangeIndex: 9093 entries, 0 to 9092\n",
      "Data columns (total 3 columns):\n",
      " #   Column                                              Non-Null Count  Dtype \n",
      "---  ------                                              --------------  ----- \n",
      " 0   tweet_text                                          9092 non-null   object\n",
      " 1   emotion_in_tweet_is_directed_at                     3291 non-null   object\n",
      " 2   is_there_an_emotion_directed_at_a_brand_or_product  9093 non-null   object\n",
      "dtypes: object(3)\n",
      "memory usage: 213.2+ KB\n"
     ]
    }
   ],
   "source": [
    "# Display data types\n",
    "data.info()"
   ]
  },
  {
   "cell_type": "markdown",
   "id": "33db5eda",
   "metadata": {},
   "source": [
    "- All the columns in the dataset are non null.\n",
    "\n",
    "- All the columns are of the object data type."
   ]
  },
  {
   "cell_type": "markdown",
   "id": "4cd8fa09",
   "metadata": {},
   "source": [
    "In order to understand the columns better, and for ease of readability, the columns are renamed to give the data more meaning."
   ]
  },
  {
   "cell_type": "code",
   "execution_count": 32,
   "id": "a0f02c6f",
   "metadata": {},
   "outputs": [
    {
     "data": {
      "text/html": [
       "<div>\n",
       "<style scoped>\n",
       "    .dataframe tbody tr th:only-of-type {\n",
       "        vertical-align: middle;\n",
       "    }\n",
       "\n",
       "    .dataframe tbody tr th {\n",
       "        vertical-align: top;\n",
       "    }\n",
       "\n",
       "    .dataframe thead th {\n",
       "        text-align: right;\n",
       "    }\n",
       "</style>\n",
       "<table border=\"1\" class=\"dataframe\">\n",
       "  <thead>\n",
       "    <tr style=\"text-align: right;\">\n",
       "      <th></th>\n",
       "      <th>tweet</th>\n",
       "      <th>tweet_directed_at</th>\n",
       "      <th>sentiment</th>\n",
       "    </tr>\n",
       "  </thead>\n",
       "  <tbody>\n",
       "    <tr>\n",
       "      <th>0</th>\n",
       "      <td>.@wesley83 I have a 3G iPhone. After 3 hrs twe...</td>\n",
       "      <td>iPhone</td>\n",
       "      <td>Negative emotion</td>\n",
       "    </tr>\n",
       "    <tr>\n",
       "      <th>1</th>\n",
       "      <td>@jessedee Know about @fludapp ? Awesome iPad/i...</td>\n",
       "      <td>iPad or iPhone App</td>\n",
       "      <td>Positive emotion</td>\n",
       "    </tr>\n",
       "    <tr>\n",
       "      <th>2</th>\n",
       "      <td>@swonderlin Can not wait for #iPad 2 also. The...</td>\n",
       "      <td>iPad</td>\n",
       "      <td>Positive emotion</td>\n",
       "    </tr>\n",
       "    <tr>\n",
       "      <th>3</th>\n",
       "      <td>@sxsw I hope this year's festival isn't as cra...</td>\n",
       "      <td>iPad or iPhone App</td>\n",
       "      <td>Negative emotion</td>\n",
       "    </tr>\n",
       "    <tr>\n",
       "      <th>4</th>\n",
       "      <td>@sxtxstate great stuff on Fri #SXSW: Marissa M...</td>\n",
       "      <td>Google</td>\n",
       "      <td>Positive emotion</td>\n",
       "    </tr>\n",
       "  </tbody>\n",
       "</table>\n",
       "</div>"
      ],
      "text/plain": [
       "                                               tweet   tweet_directed_at  \\\n",
       "0  .@wesley83 I have a 3G iPhone. After 3 hrs twe...              iPhone   \n",
       "1  @jessedee Know about @fludapp ? Awesome iPad/i...  iPad or iPhone App   \n",
       "2  @swonderlin Can not wait for #iPad 2 also. The...                iPad   \n",
       "3  @sxsw I hope this year's festival isn't as cra...  iPad or iPhone App   \n",
       "4  @sxtxstate great stuff on Fri #SXSW: Marissa M...              Google   \n",
       "\n",
       "          sentiment  \n",
       "0  Negative emotion  \n",
       "1  Positive emotion  \n",
       "2  Positive emotion  \n",
       "3  Negative emotion  \n",
       "4  Positive emotion  "
      ]
     },
     "execution_count": 32,
     "metadata": {},
     "output_type": "execute_result"
    }
   ],
   "source": [
    "# Rename the columns in the dataset\n",
    "def rename_columns(df):\n",
    "    df.columns = ['tweet', 'tweet_directed_at', 'sentiment']\n",
    "    return df\n",
    "\n",
    "data = rename_columns(data)\n",
    "data.head()"
   ]
  },
  {
   "cell_type": "markdown",
   "id": "f3fe5f34",
   "metadata": {},
   "source": [
    "In the sentiment column, it is possible to check the different classes (sentiments) and their respective counts."
   ]
  },
  {
   "cell_type": "code",
   "execution_count": 33,
   "id": "75cf4e6e",
   "metadata": {},
   "outputs": [
    {
     "data": {
      "text/plain": [
       "sentiment\n",
       "No emotion toward brand or product    5389\n",
       "Positive emotion                      2978\n",
       "Negative emotion                       570\n",
       "I can't tell                           156\n",
       "Name: count, dtype: int64"
      ]
     },
     "execution_count": 33,
     "metadata": {},
     "output_type": "execute_result"
    }
   ],
   "source": [
    "# Check the unique values in 'sentiment'\n",
    "data['sentiment'].value_counts()"
   ]
  },
  {
   "cell_type": "markdown",
   "id": "8f99fec7",
   "metadata": {},
   "source": [
    "- The dataset contains four sentiment categories: Positive emotion, Negative emotion, No emotion toward the brand or product and I can’t tell.\n",
    "\n",
    "- The last two are merged into a single Neutral emotion category, resulting in three final classes: Positive, Negative and Neutral."
   ]
  },
  {
   "cell_type": "code",
   "execution_count": 34,
   "id": "93b78085",
   "metadata": {},
   "outputs": [
    {
     "name": "stdout",
     "output_type": "stream",
     "text": [
      "Unique Sentiments:\n",
      "['Negative emotion' 'Positive emotion' 'Neutral emotion']\n"
     ]
    }
   ],
   "source": [
    "# Combine the 'No emotion toward brand or product' and 'I can't tell' into a single category\n",
    "data['sentiment'] = data['sentiment'].replace(\n",
    "    {\n",
    "        \"No emotion toward brand or product\": \"Neutral emotion\",\n",
    "        \"I can't tell\": \"Neutral emotion\",\n",
    "    }\n",
    ")\n",
    "\n",
    "# Check the unique values in the sentiment column\n",
    "print(\"Unique Sentiments:\")\n",
    "print(data['sentiment'].unique())"
   ]
  },
  {
   "cell_type": "markdown",
   "id": "aaf81aa5",
   "metadata": {},
   "source": [
    "Next, missing values and duplicate values are checked in the dataset."
   ]
  },
  {
   "cell_type": "code",
   "execution_count": 35,
   "id": "b138a1a9",
   "metadata": {},
   "outputs": [
    {
     "name": "stdout",
     "output_type": "stream",
     "text": [
      "Missing Values (%):\n",
      "tweet                 0.010997\n",
      "tweet_directed_at    63.807324\n",
      "sentiment             0.000000\n",
      "dtype: float64\n"
     ]
    }
   ],
   "source": [
    "# Check for missing values and express as a percentage\n",
    "missing_values = data.isna().sum() / len(data) * 100\n",
    "print(\"Missing Values (%):\")\n",
    "print(missing_values)"
   ]
  },
  {
   "cell_type": "markdown",
   "id": "2c0350b6",
   "metadata": {},
   "source": [
    "- The tweet_directed_at column has numerous missing values. They are replaced with the string 'Not directed' to show that those tweets are not directed at any specific entity."
   ]
  },
  {
   "cell_type": "code",
   "execution_count": 36,
   "id": "ede62466",
   "metadata": {},
   "outputs": [
    {
     "data": {
      "text/plain": [
       "tweet                0\n",
       "tweet_directed_at    0\n",
       "sentiment            0\n",
       "dtype: int64"
      ]
     },
     "execution_count": 36,
     "metadata": {},
     "output_type": "execute_result"
    }
   ],
   "source": [
    "# Fill the missing values in 'tweet_directed_at' column with 'Not directed'\n",
    "data['tweet_directed_at'].fillna('Not directed', inplace=True)\n",
    "\n",
    "# Drop the missing value in 'tweet' column\n",
    "data.dropna(subset=['tweet'], inplace=True, axis=0)\n",
    "\n",
    "# Check again for missing values\n",
    "data.isna().sum()"
   ]
  },
  {
   "cell_type": "markdown",
   "id": "c74255d8",
   "metadata": {},
   "source": [
    "Next, duplicate rows in the dataset are checked."
   ]
  },
  {
   "cell_type": "code",
   "execution_count": 37,
   "id": "4e07c157",
   "metadata": {},
   "outputs": [
    {
     "data": {
      "text/plain": [
       "np.int64(22)"
      ]
     },
     "execution_count": 37,
     "metadata": {},
     "output_type": "execute_result"
    }
   ],
   "source": [
    "# Check for duplicate values\n",
    "data.duplicated().sum()"
   ]
  },
  {
   "cell_type": "markdown",
   "id": "aaf4c23f",
   "metadata": {},
   "source": [
    "- There are 22 duplicate rows in the dataset. The duplicate rows are dropped entirely."
   ]
  },
  {
   "cell_type": "code",
   "execution_count": 38,
   "id": "6f51f429",
   "metadata": {},
   "outputs": [
    {
     "data": {
      "text/plain": [
       "np.int64(0)"
      ]
     },
     "execution_count": 38,
     "metadata": {},
     "output_type": "execute_result"
    }
   ],
   "source": [
    "# Drop the duplicate rows\n",
    "data.drop_duplicates(inplace=True)\n",
    "data.duplicated().sum()"
   ]
  },
  {
   "cell_type": "markdown",
   "id": "76ecfa10",
   "metadata": {},
   "source": [
    "Next, the summary statistics of the data are checked."
   ]
  },
  {
   "cell_type": "code",
   "execution_count": 39,
   "id": "bebf8a61",
   "metadata": {},
   "outputs": [
    {
     "data": {
      "text/html": [
       "<div>\n",
       "<style scoped>\n",
       "    .dataframe tbody tr th:only-of-type {\n",
       "        vertical-align: middle;\n",
       "    }\n",
       "\n",
       "    .dataframe tbody tr th {\n",
       "        vertical-align: top;\n",
       "    }\n",
       "\n",
       "    .dataframe thead th {\n",
       "        text-align: right;\n",
       "    }\n",
       "</style>\n",
       "<table border=\"1\" class=\"dataframe\">\n",
       "  <thead>\n",
       "    <tr style=\"text-align: right;\">\n",
       "      <th></th>\n",
       "      <th>tweet</th>\n",
       "      <th>tweet_directed_at</th>\n",
       "      <th>sentiment</th>\n",
       "    </tr>\n",
       "  </thead>\n",
       "  <tbody>\n",
       "    <tr>\n",
       "      <th>count</th>\n",
       "      <td>9070</td>\n",
       "      <td>9070</td>\n",
       "      <td>9070</td>\n",
       "    </tr>\n",
       "    <tr>\n",
       "      <th>unique</th>\n",
       "      <td>9065</td>\n",
       "      <td>10</td>\n",
       "      <td>3</td>\n",
       "    </tr>\n",
       "    <tr>\n",
       "      <th>top</th>\n",
       "      <td>Win free ipad 2 from webdoc.com #sxsw RT</td>\n",
       "      <td>Not directed</td>\n",
       "      <td>Neutral emotion</td>\n",
       "    </tr>\n",
       "    <tr>\n",
       "      <th>freq</th>\n",
       "      <td>2</td>\n",
       "      <td>5788</td>\n",
       "      <td>5531</td>\n",
       "    </tr>\n",
       "  </tbody>\n",
       "</table>\n",
       "</div>"
      ],
      "text/plain": [
       "                                           tweet tweet_directed_at  \\\n",
       "count                                       9070              9070   \n",
       "unique                                      9065                10   \n",
       "top     Win free ipad 2 from webdoc.com #sxsw RT      Not directed   \n",
       "freq                                           2              5788   \n",
       "\n",
       "              sentiment  \n",
       "count              9070  \n",
       "unique                3  \n",
       "top     Neutral emotion  \n",
       "freq               5531  "
      ]
     },
     "execution_count": 39,
     "metadata": {},
     "output_type": "execute_result"
    }
   ],
   "source": [
    "data.describe()"
   ]
  },
  {
   "cell_type": "markdown",
   "id": "3e838aed",
   "metadata": {},
   "source": [
    "### 2.3. Exploratory Data Analysis\n",
    "\n",
    "This section investigates the dataset to get insights, evaluate feature distributions, assess relationships and detect issues or outliers. The findings guide the selection of appropriate modeling techniques."
   ]
  },
  {
   "cell_type": "markdown",
   "id": "f48beb2c",
   "metadata": {},
   "source": [
    "#### 2.3.1. Dataset Overview\n",
    "\n",
    "This section covers the general overview of the dataset. This includes the shape, number of tweets, number of features and column info."
   ]
  },
  {
   "cell_type": "code",
   "execution_count": 40,
   "id": "f1808d4e",
   "metadata": {},
   "outputs": [
    {
     "name": "stdout",
     "output_type": "stream",
     "text": [
      "Dataset Overview\n",
      "Dataset shape: (9070, 3)\n",
      "Number of tweets: 9070\n",
      "Number of features: 3\n",
      "Memory usage: 2.54 MB\n",
      "\n",
      "Column Information:\n",
      "• tweet: object\n",
      "• tweet_directed_at: object\n",
      "• sentiment: object\n"
     ]
    }
   ],
   "source": [
    "# Dataset overview\n",
    "print(\"Dataset Overview\")\n",
    "print(f\"Dataset shape: {data.shape}\")\n",
    "print(f\"Number of tweets: {len(data)}\")\n",
    "print(f\"Number of features: {len(data.columns)}\")\n",
    "print(f\"Memory usage: {data.memory_usage(deep=True).sum() / 1024**2:.2f} MB\")\n",
    "\n",
    "print(\"\\nColumn Information:\")\n",
    "for col in data.columns:\n",
    "    print(f\"• {col}: {data[col].dtype}\")"
   ]
  },
  {
   "cell_type": "markdown",
   "id": "2fda94b5",
   "metadata": {},
   "source": [
    "#### 2.3.2. Sentiment Distribution Analysis\n",
    "\n",
    "In this section, the distribution of the unique values in the sentiment column is inspected."
   ]
  },
  {
   "cell_type": "code",
   "execution_count": 41,
   "id": "77798da5",
   "metadata": {},
   "outputs": [
    {
     "name": "stdout",
     "output_type": "stream",
     "text": [
      "Sentiment Distribution Analysis\n",
      "\n",
      "Sentiment Categories:\n",
      "sentiment\n",
      "Neutral emotion     5531\n",
      "Positive emotion    2970\n",
      "Negative emotion     569\n",
      "Name: count, dtype: int64\n",
      "\n",
      "Sentiment Distribution (%):\n",
      "sentiment\n",
      "Neutral emotion     60.98\n",
      "Positive emotion    32.75\n",
      "Negative emotion     6.27\n",
      "Name: proportion, dtype: float64\n"
     ]
    }
   ],
   "source": [
    "# Sentiment Distribution Analysis\n",
    "print(\"Sentiment Distribution Analysis\")\n",
    "\n",
    "# Count unique sentiment values\n",
    "sentiment_counts = data['sentiment'].value_counts()\n",
    "print(\"\\nSentiment Categories:\")\n",
    "print(sentiment_counts)\n",
    "\n",
    "# Calculate percentages\n",
    "sentiment_percentages = data['sentiment'].value_counts(normalize=True) * 100\n",
    "print(\"\\nSentiment Distribution (%):\")\n",
    "print(sentiment_percentages.round(2))"
   ]
  },
  {
   "cell_type": "code",
   "execution_count": 42,
   "id": "708cf9cb",
   "metadata": {},
   "outputs": [
    {
     "data": {
      "image/png": "[encoded data removed]",
      "text/plain": [
       "<Figure size 1300x700 with 1 Axes>"
      ]
     },
     "metadata": {},
     "output_type": "display_data"
    }
   ],
   "source": [
    "# Visualize sentiment distribution\n",
    "plt.figure(figsize=(13, 7))\n",
    "\n",
    "# Plot 1: Count Plot\n",
    "\n",
    "# plt.subplot(2, 3, 1)\n",
    "ax = sns.countplot(data=data, y='sentiment', order=sentiment_counts.index, palette='viridis')\n",
    "plt.title('Sentiment Distribution (Count)', fontsize=12, fontweight='bold')\n",
    "plt.xlabel('Count')\n",
    "for i, v in enumerate(sentiment_counts.values):\n",
    "    ax.text(v + 50, i, str(v), va='center', fontweight='bold')"
   ]
  },
  {
   "cell_type": "markdown",
   "id": "4a6d006b",
   "metadata": {},
   "source": [
    "From the plot, the following were the key observations:\n",
    "\n",
    "- Out of the 9070 tweets in the dataset, 5531 tweets express a neutral emotion. This is about 60.98% of the total tweets, 2970 tweets express a positive emotion, which is about 32.75% of the total tweets and 569 tweets express a negative emotion, which is about 6.27% of the total tweets.\n",
    "\n",
    "- This indicates that the sentiment (target) column is highly imbalanced. This imbalance can negatively impact the performance of the prediction model by influencing the model to make false predictions. Therefore, the class imbalance will be handles before modeling."
   ]
  },
  {
   "cell_type": "markdown",
   "id": "5b24cc3a",
   "metadata": {},
   "source": [
    "#### 2.3.3. Tweet Destination distribution\n",
    "\n",
    "This section examines how tweets are distributed across different brands and products. The analysis helps identify which entities receive the most social media attention, reveals sentiment patterns by brand, assesses data balance, provides competitive insights between Apple and Google, and highlights brands or products that may require deeper sentiment analysis.\n",
    "\n",
    "These insights will guide the modeling approach and support actionable business insights for brand management and product development strategies."
   ]
  },
  {
   "cell_type": "code",
   "execution_count": 43,
   "id": "92029736",
   "metadata": {},
   "outputs": [
    {
     "data": {
      "image/png": "[encoded data removed]",
      "text/plain": [
       "<Figure size 1300x700 with 1 Axes>"
      ]
     },
     "metadata": {},
     "output_type": "display_data"
    }
   ],
   "source": [
    "# Plot 2: Tweet Destination Distribution\n",
    "\n",
    "plt.figure(figsize=(13, 7))\n",
    "tweet_dest_counts = data['tweet_directed_at'].value_counts().head(10)\n",
    "ax = sns.barplot(x=tweet_dest_counts.values, y=tweet_dest_counts.index, palette='coolwarm')\n",
    "plt.title('Top 10 Tweet Destinations', fontsize=12, fontweight='bold')\n",
    "plt.xlabel('Count')\n",
    "for i, v in enumerate(tweet_dest_counts.values):\n",
    "    ax.text(v + 10, i, str(v), va='center', fontweight='bold')"
   ]
  },
  {
   "cell_type": "markdown",
   "id": "bc4154e9",
   "metadata": {},
   "source": [
    "The following were the key observations:\n",
    "\n",
    "- The plot shows that most tweets are not directed at any specific brand, with 'Not directed' being the largest category.\n",
    "\n",
    "- Among the directed tweets, 'iPad', 'Apple', and 'iPad or iPhone App' are the most mentioned, followed by 'Google' and 'iPhone'.\n",
    "\n",
    "- This shows that Apple products dominate discussions, while Google products receive fewer mentions, highlighting a strong focus on Apple within the top tweet destinations."
   ]
  },
  {
   "cell_type": "markdown",
   "id": "99aea9d5",
   "metadata": {},
   "source": [
    "#### 2.3.4. Sentiment by Tweet Destination\n",
    "\n",
    "This section examines how sentiment is distributed across major brands and products such as Apple, Google, iPhone and iPad. It shows the share of positive, negative and neutral tweets for each destination to reveal how each brand is perceived by users.\n",
    "\n",
    "The analysis helps to:\n",
    "\n",
    "- Compare sentiment levels across brands and products.\n",
    "\n",
    "- Identify which entities receive more positive or negative feedback.\n",
    "\n",
    "- Provide insights that can support marketing and communication decisions.\n",
    "\n",
    "This step shows a clear view of brand sentiment. It shows areas where each brand performs well and where improvement may be needed."
   ]
  },
  {
   "cell_type": "code",
   "execution_count": 44,
   "id": "231d4e4a",
   "metadata": {},
   "outputs": [
    {
     "data": {
      "application/vnd.plotly.v1+json": {
       "config": {
        "plotlyServerURL": "https://plot.ly"
       },
       "data": [
        {
         "name": "Negative emotion",
         "text": {
          "bdata": "AAAAAADAV0AAAAAAAABRQAAAAAAAgElAAAAAAABAX0AAAAAAAIBPQA==",
          "dtype": "f8"
         },
         "textposition": "auto",
         "type": "bar",
         "x": [
          "Apple",
          "Google",
          "Not directed",
          "iPad",
          "iPad or iPhone App"
         ],
         "y": {
          "bdata": "X0QzfT8=",
          "dtype": "i1"
         }
        },
        {
         "name": "Neutral emotion",
         "text": {
          "bdata": "AAAAAAAAN0AAAAAAAAAwQAAAAAAAN7VAAAAAAAAAPEAAAAAAAAAkQA==",
          "dtype": "f8"
         },
         "textposition": "auto",
         "type": "bar",
         "x": [
          "Apple",
          "Google",
          "Not directed",
          "iPad",
          "iPad or iPhone App"
         ],
         "y": {
          "bdata": "FwAQADcVHAAKAA==",
          "dtype": "i2"
         }
        },
        {
         "name": "Positive emotion",
         "text": {
          "bdata": "AAAAAADogEAAAAAAAIB1QAAAAAAAIHNAAAAAAADAiEAAAAAAAMB4QA==",
          "dtype": "f8"
         },
         "textposition": "auto",
         "type": "bar",
         "x": [
          "Apple",
          "Google",
          "Not directed",
          "iPad",
          "iPad or iPhone App"
         ],
         "y": {
          "bdata": "HQJYATIBGAOMAQ==",
          "dtype": "i2"
         }
        }
       ],
       "layout": {
        "barmode": "stack",
        "height": 800,
        "legend": {
         "title": {
          "text": "Sentiment"
         }
        },
        "template": {
         "data": {
          "bar": [
           {
            "error_x": {
             "color": "#2a3f5f"
            },
            "error_y": {
             "color": "#2a3f5f"
            },
            "marker": {
             "line": {
              "color": "white",
              "width": 0.5
             },
             "pattern": {
              "fillmode": "overlay",
              "size": 10,
              "solidity": 0.2
             }
            },
            "type": "bar"
           }
          ],
          "barpolar": [
           {
            "marker": {
             "line": {
              "color": "white",
              "width": 0.5
             },
             "pattern": {
              "fillmode": "overlay",
              "size": 10,
              "solidity": 0.2
             }
            },
            "type": "barpolar"
           }
          ],
          "carpet": [
           {
            "aaxis": {
             "endlinecolor": "#2a3f5f",
             "gridcolor": "#C8D4E3",
             "linecolor": "#C8D4E3",
             "minorgridcolor": "#C8D4E3",
             "startlinecolor": "#2a3f5f"
            },
            "baxis": {
             "endlinecolor": "#2a3f5f",
             "gridcolor": "#C8D4E3",
             "linecolor": "#C8D4E3",
             "minorgridcolor": "#C8D4E3",
             "startlinecolor": "#2a3f5f"
            },
            "type": "carpet"
           }
          ],
          "choropleth": [
           {
            "colorbar": {
             "outlinewidth": 0,
             "ticks": ""
            },
            "type": "choropleth"
           }
          ],
          "contour": [
           {
            "colorbar": {
             "outlinewidth": 0,
             "ticks": ""
            },
            "colorscale": [
             [
              0,
              "#0d0887"
             ],
             [
              0.1111111111111111,
              "#46039f"
             ],
             [
              0.2222222222222222,
              "#7201a8"
             ],
             [
              0.3333333333333333,
              "#9c179e"
             ],
             [
              0.4444444444444444,
              "#bd3786"
             ],
             [
              0.5555555555555556,
              "#d8576b"
             ],
             [
              0.6666666666666666,
              "#ed7953"
             ],
             [
              0.7777777777777778,
              "#fb9f3a"
             ],
             [
              0.8888888888888888,
              "#fdca26"
             ],
             [
              1,
              "#f0f921"
             ]
            ],
            "type": "contour"
           }
          ],
          "contourcarpet": [
           {
            "colorbar": {
             "outlinewidth": 0,
             "ticks": ""
            },
            "type": "contourcarpet"
           }
          ],
          "heatmap": [
           {
            "colorbar": {
             "outlinewidth": 0,
             "ticks": ""
            },
            "colorscale": [
             [
              0,
              "#0d0887"
             ],
             [
              0.1111111111111111,
              "#46039f"
             ],
             [
              0.2222222222222222,
              "#7201a8"
             ],
             [
              0.3333333333333333,
              "#9c179e"
             ],
             [
              0.4444444444444444,
              "#bd3786"
             ],
             [
              0.5555555555555556,
              "#d8576b"
             ],
             [
              0.6666666666666666,
              "#ed7953"
             ],
             [
              0.7777777777777778,
              "#fb9f3a"
             ],
             [
              0.8888888888888888,
              "#fdca26"
             ],
             [
              1,
              "#f0f921"
             ]
            ],
            "type": "heatmap"
           }
          ],
          "histogram": [
           {
            "marker": {
             "pattern": {
              "fillmode": "overlay",
              "size": 10,
              "solidity": 0.2
             }
            },
            "type": "histogram"
           }
          ],
          "histogram2d": [
           {
            "colorbar": {
             "outlinewidth": 0,
             "ticks": ""
            },
            "colorscale": [
             [
              0,
              "#0d0887"
             ],
             [
              0.1111111111111111,
              "#46039f"
             ],
             [
              0.2222222222222222,
              "#7201a8"
             ],
             [
              0.3333333333333333,
              "#9c179e"
             ],
             [
              0.4444444444444444,
              "#bd3786"
             ],
             [
              0.5555555555555556,
              "#d8576b"
             ],
             [
              0.6666666666666666,
              "#ed7953"
             ],
             [
              0.7777777777777778,
              "#fb9f3a"
             ],
             [
              0.8888888888888888,
              "#fdca26"
             ],
             [
              1,
              "#f0f921"
             ]
            ],
            "type": "histogram2d"
           }
          ],
          "histogram2dcontour": [
           {
            "colorbar": {
             "outlinewidth": 0,
             "ticks": ""
            },
            "colorscale": [
             [
              0,
              "#0d0887"
             ],
             [
              0.1111111111111111,
              "#46039f"
             ],
             [
              0.2222222222222222,
              "#7201a8"
             ],
             [
              0.3333333333333333,
              "#9c179e"
             ],
             [
              0.4444444444444444,
              "#bd3786"
             ],
             [
              0.5555555555555556,
              "#d8576b"
             ],
             [
              0.6666666666666666,
              "#ed7953"
             ],
             [
              0.7777777777777778,
              "#fb9f3a"
             ],
             [
              0.8888888888888888,
              "#fdca26"
             ],
             [
              1,
              "#f0f921"
             ]
            ],
            "type": "histogram2dcontour"
           }
          ],
          "mesh3d": [
           {
            "colorbar": {
             "outlinewidth": 0,
             "ticks": ""
            },
            "type": "mesh3d"
           }
          ],
          "parcoords": [
           {
            "line": {
             "colorbar": {
              "outlinewidth": 0,
              "ticks": ""
             }
            },
            "type": "parcoords"
           }
          ],
          "pie": [
           {
            "automargin": true,
            "type": "pie"
           }
          ],
          "scatter": [
           {
            "fillpattern": {
             "fillmode": "overlay",
             "size": 10,
             "solidity": 0.2
            },
            "type": "scatter"
           }
          ],
          "scatter3d": [
           {
            "line": {
             "colorbar": {
              "outlinewidth": 0,
              "ticks": ""
             }
            },
            "marker": {
             "colorbar": {
              "outlinewidth": 0,
              "ticks": ""
             }
            },
            "type": "scatter3d"
           }
          ],
          "scattercarpet": [
           {
            "marker": {
             "colorbar": {
              "outlinewidth": 0,
              "ticks": ""
             }
            },
            "type": "scattercarpet"
           }
          ],
          "scattergeo": [
           {
            "marker": {
             "colorbar": {
              "outlinewidth": 0,
              "ticks": ""
             }
            },
            "type": "scattergeo"
           }
          ],
          "scattergl": [
           {
            "marker": {
             "colorbar": {
              "outlinewidth": 0,
              "ticks": ""
             }
            },
            "type": "scattergl"
           }
          ],
          "scattermap": [
           {
            "marker": {
             "colorbar": {
              "outlinewidth": 0,
              "ticks": ""
             }
            },
            "type": "scattermap"
           }
          ],
          "scattermapbox": [
           {
            "marker": {
             "colorbar": {
              "outlinewidth": 0,
              "ticks": ""
             }
            },
            "type": "scattermapbox"
           }
          ],
          "scatterpolar": [
           {
            "marker": {
             "colorbar": {
              "outlinewidth": 0,
              "ticks": ""
             }
            },
            "type": "scatterpolar"
           }
          ],
          "scatterpolargl": [
           {
            "marker": {
             "colorbar": {
              "outlinewidth": 0,
              "ticks": ""
             }
            },
            "type": "scatterpolargl"
           }
          ],
          "scatterternary": [
           {
            "marker": {
             "colorbar": {
              "outlinewidth": 0,
              "ticks": ""
             }
            },
            "type": "scatterternary"
           }
          ],
          "surface": [
           {
            "colorbar": {
             "outlinewidth": 0,
             "ticks": ""
            },
            "colorscale": [
             [
              0,
              "#0d0887"
             ],
             [
              0.1111111111111111,
              "#46039f"
             ],
             [
              0.2222222222222222,
              "#7201a8"
             ],
             [
              0.3333333333333333,
              "#9c179e"
             ],
             [
              0.4444444444444444,
              "#bd3786"
             ],
             [
              0.5555555555555556,
              "#d8576b"
             ],
             [
              0.6666666666666666,
              "#ed7953"
             ],
             [
              0.7777777777777778,
              "#fb9f3a"
             ],
             [
              0.8888888888888888,
              "#fdca26"
             ],
             [
              1,
              "#f0f921"
             ]
            ],
            "type": "surface"
           }
          ],
          "table": [
           {
            "cells": {
             "fill": {
              "color": "#EBF0F8"
             },
             "line": {
              "color": "white"
             }
            },
            "header": {
             "fill": {
              "color": "#C8D4E3"
             },
             "line": {
              "color": "white"
             }
            },
            "type": "table"
           }
          ]
         },
         "layout": {
          "annotationdefaults": {
           "arrowcolor": "#2a3f5f",
           "arrowhead": 0,
           "arrowwidth": 1
          },
          "autotypenumbers": "strict",
          "coloraxis": {
           "colorbar": {
            "outlinewidth": 0,
            "ticks": ""
           }
          },
          "colorscale": {
           "diverging": [
            [
             0,
             "#8e0152"
            ],
            [
             0.1,
             "#c51b7d"
            ],
            [
             0.2,
             "#de77ae"
            ],
            [
             0.3,
             "#f1b6da"
            ],
            [
             0.4,
             "#fde0ef"
            ],
            [
             0.5,
             "#f7f7f7"
            ],
            [
             0.6,
             "#e6f5d0"
            ],
            [
             0.7,
             "#b8e186"
            ],
            [
             0.8,
             "#7fbc41"
            ],
            [
             0.9,
             "#4d9221"
            ],
            [
             1,
             "#276419"
            ]
           ],
           "sequential": [
            [
             0,
             "#0d0887"
            ],
            [
             0.1111111111111111,
             "#46039f"
            ],
            [
             0.2222222222222222,
             "#7201a8"
            ],
            [
             0.3333333333333333,
             "#9c179e"
            ],
            [
             0.4444444444444444,
             "#bd3786"
            ],
            [
             0.5555555555555556,
             "#d8576b"
            ],
            [
             0.6666666666666666,
             "#ed7953"
            ],
            [
             0.7777777777777778,
             "#fb9f3a"
            ],
            [
             0.8888888888888888,
             "#fdca26"
            ],
            [
             1,
             "#f0f921"
            ]
           ],
           "sequentialminus": [
            [
             0,
             "#0d0887"
            ],
            [
             0.1111111111111111,
             "#46039f"
            ],
            [
             0.2222222222222222,
             "#7201a8"
            ],
            [
             0.3333333333333333,
             "#9c179e"
            ],
            [
             0.4444444444444444,
             "#bd3786"
            ],
            [
             0.5555555555555556,
             "#d8576b"
            ],
            [
             0.6666666666666666,
             "#ed7953"
            ],
            [
             0.7777777777777778,
             "#fb9f3a"
            ],
            [
             0.8888888888888888,
             "#fdca26"
            ],
            [
             1,
             "#f0f921"
            ]
           ]
          },
          "colorway": [
           "#636efa",
           "#EF553B",
           "#00cc96",
           "#ab63fa",
           "#FFA15A",
           "#19d3f3",
           "#FF6692",
           "#B6E880",
           "#FF97FF",
           "#FECB52"
          ],
          "font": {
           "color": "#2a3f5f"
          },
          "geo": {
           "bgcolor": "white",
           "lakecolor": "white",
           "landcolor": "white",
           "showlakes": true,
           "showland": true,
           "subunitcolor": "#C8D4E3"
          },
          "hoverlabel": {
           "align": "left"
          },
          "hovermode": "closest",
          "mapbox": {
           "style": "light"
          },
          "paper_bgcolor": "white",
          "plot_bgcolor": "white",
          "polar": {
           "angularaxis": {
            "gridcolor": "#EBF0F8",
            "linecolor": "#EBF0F8",
            "ticks": ""
           },
           "bgcolor": "white",
           "radialaxis": {
            "gridcolor": "#EBF0F8",
            "linecolor": "#EBF0F8",
            "ticks": ""
           }
          },
          "scene": {
           "xaxis": {
            "backgroundcolor": "white",
            "gridcolor": "#DFE8F3",
            "gridwidth": 2,
            "linecolor": "#EBF0F8",
            "showbackground": true,
            "ticks": "",
            "zerolinecolor": "#EBF0F8"
           },
           "yaxis": {
            "backgroundcolor": "white",
            "gridcolor": "#DFE8F3",
            "gridwidth": 2,
            "linecolor": "#EBF0F8",
            "showbackground": true,
            "ticks": "",
            "zerolinecolor": "#EBF0F8"
           },
           "zaxis": {
            "backgroundcolor": "white",
            "gridcolor": "#DFE8F3",
            "gridwidth": 2,
            "linecolor": "#EBF0F8",
            "showbackground": true,
            "ticks": "",
            "zerolinecolor": "#EBF0F8"
           }
          },
          "shapedefaults": {
           "line": {
            "color": "#2a3f5f"
           }
          },
          "ternary": {
           "aaxis": {
            "gridcolor": "#DFE8F3",
            "linecolor": "#A2B1C6",
            "ticks": ""
           },
           "baxis": {
            "gridcolor": "#DFE8F3",
            "linecolor": "#A2B1C6",
            "ticks": ""
           },
           "bgcolor": "white",
           "caxis": {
            "gridcolor": "#DFE8F3",
            "linecolor": "#A2B1C6",
            "ticks": ""
           }
          },
          "title": {
           "x": 0.05
          },
          "xaxis": {
           "automargin": true,
           "gridcolor": "#EBF0F8",
           "linecolor": "#EBF0F8",
           "ticks": "",
           "title": {
            "standoff": 15
           },
           "zerolinecolor": "#EBF0F8",
           "zerolinewidth": 2
          },
          "yaxis": {
           "automargin": true,
           "gridcolor": "#EBF0F8",
           "linecolor": "#EBF0F8",
           "ticks": "",
           "title": {
            "standoff": 15
           },
           "zerolinecolor": "#EBF0F8",
           "zerolinewidth": 2
          }
         }
        },
        "title": {
         "text": "Sentiment by Top 5 Destinations"
        },
        "xaxis": {
         "tickangle": -45,
         "title": {
          "text": "Tweet Destination"
         }
        },
        "yaxis": {
         "title": {
          "text": "Count"
         }
        }
       }
      }
     },
     "metadata": {},
     "output_type": "display_data"
    }
   ],
   "source": [
    "# Plot 4: Sentiment by Tweet Destination using Plotly\n",
    "\n",
    "# Prepare data\n",
    "top_destinations = data['tweet_directed_at'].value_counts().head(5).index\n",
    "filtered_df = data[data['tweet_directed_at'].isin(top_destinations)]\n",
    "sentiment_destination = pd.crosstab(filtered_df['tweet_directed_at'], filtered_df['sentiment'])\n",
    "\n",
    "# Create stacked bar chart\n",
    "fig = go.Figure()\n",
    "\n",
    "for sentiment in sentiment_destination.columns:\n",
    "    fig.add_trace(go.Bar(\n",
    "        x=sentiment_destination.index,\n",
    "        y=sentiment_destination[sentiment],\n",
    "        name=sentiment,\n",
    "        text=sentiment_destination[sentiment],\n",
    "        textposition='auto'\n",
    "    ))\n",
    "\n",
    "fig.update_layout(\n",
    "    barmode='stack',\n",
    "    title='Sentiment by Top 5 Destinations',\n",
    "    xaxis_title='Tweet Destination',\n",
    "    yaxis_title='Count',\n",
    "    legend_title='Sentiment',\n",
    "    xaxis_tickangle=-45,\n",
    "    template='plotly_white',\n",
    "    # width=1200,\n",
    "    height=800\n",
    ")\n",
    "\n",
    "fig.show()"
   ]
  },
  {
   "cell_type": "markdown",
   "id": "4c42a217",
   "metadata": {},
   "source": [
    "The following were the key observations:\n",
    "\n",
    "- Not directed category has the highest count with 5,431 neutral tweets. This shows that many tweets are general rather than brand specific.\n",
    "\n",
    "- Among directed destinations, iPad with 792 and Apple with 541 record the most mentions, followed by iPad or iPhone App (396) and Google (344).\n",
    "\n",
    "- Positive sentiment is dominant across directed destinations, while negative sentiment is minimal.\n",
    "\n",
    "- This shows that Apple products attract the most engagement and has more favourable sentiment."
   ]
  },
  {
   "cell_type": "code",
   "execution_count": 45,
   "id": "4a3feacf",
   "metadata": {},
   "outputs": [
    {
     "data": {
      "application/vnd.plotly.v1+json": {
       "config": {
        "plotlyServerURL": "https://plot.ly"
       },
       "data": [
        {
         "marker": {
          "color": "#e74c3c"
         },
         "name": "Negative emotion",
         "text": [
          "14.4%",
          "15.9%",
          "0.9%",
          "13.2%",
          "13.4%"
         ],
         "textposition": "auto",
         "type": "bar",
         "x": [
          "Apple",
          "Google",
          "Not directed",
          "iPad",
          "iPad or iPhone App"
         ],
         "y": {
          "bdata": "kcSiT+HULEDNfiFWlMYvQPbC/qA+Muw/RycfnXx0KkAykR6onN0qQA==",
          "dtype": "f8"
         }
        },
        {
         "marker": {
          "color": "#f1c40f"
         },
         "name": "Neutral emotion",
         "text": [
          "3.5%",
          "3.7%",
          "93.8%",
          "3.0%",
          "2.1%"
         ],
         "textposition": "auto",
         "type": "bar",
         "x": [
          "Apple",
          "Google",
          "Not directed",
          "iPad",
          "iPad or iPhone App"
         ],
         "y": {
          "bdata": "lxTpuMzrC0AqSuMjE+gNQFcRMpNAdVdAQ3sJ7SW0B0B9L4XcvA4BQA==",
          "dtype": "f8"
         }
        },
        {
         "marker": {
          "color": "#2ecc71"
         },
         "name": "Positive emotion",
         "text": [
          "82.1%",
          "80.4%",
          "5.3%",
          "83.8%",
          "84.4%"
         ],
         "textposition": "auto",
         "type": "bar",
         "x": [
          "Apple",
          "Google",
          "Not directed",
          "iPad",
          "iPad or iPhone App"
         ],
         "y": {
          "bdata": "yV5EcAWGVEDVtRzc7BdUQDkSv/iuJRVAPc/zPM/zVEBeBBiE1htVQA==",
          "dtype": "f8"
         }
        }
       ],
       "layout": {
        "barmode": "stack",
        "height": 800,
        "legend": {
         "title": {
          "text": "Sentiment"
         }
        },
        "template": {
         "data": {
          "bar": [
           {
            "error_x": {
             "color": "#2a3f5f"
            },
            "error_y": {
             "color": "#2a3f5f"
            },
            "marker": {
             "line": {
              "color": "white",
              "width": 0.5
             },
             "pattern": {
              "fillmode": "overlay",
              "size": 10,
              "solidity": 0.2
             }
            },
            "type": "bar"
           }
          ],
          "barpolar": [
           {
            "marker": {
             "line": {
              "color": "white",
              "width": 0.5
             },
             "pattern": {
              "fillmode": "overlay",
              "size": 10,
              "solidity": 0.2
             }
            },
            "type": "barpolar"
           }
          ],
          "carpet": [
           {
            "aaxis": {
             "endlinecolor": "#2a3f5f",
             "gridcolor": "#C8D4E3",
             "linecolor": "#C8D4E3",
             "minorgridcolor": "#C8D4E3",
             "startlinecolor": "#2a3f5f"
            },
            "baxis": {
             "endlinecolor": "#2a3f5f",
             "gridcolor": "#C8D4E3",
             "linecolor": "#C8D4E3",
             "minorgridcolor": "#C8D4E3",
             "startlinecolor": "#2a3f5f"
            },
            "type": "carpet"
           }
          ],
          "choropleth": [
           {
            "colorbar": {
             "outlinewidth": 0,
             "ticks": ""
            },
            "type": "choropleth"
           }
          ],
          "contour": [
           {
            "colorbar": {
             "outlinewidth": 0,
             "ticks": ""
            },
            "colorscale": [
             [
              0,
              "#0d0887"
             ],
             [
              0.1111111111111111,
              "#46039f"
             ],
             [
              0.2222222222222222,
              "#7201a8"
             ],
             [
              0.3333333333333333,
              "#9c179e"
             ],
             [
              0.4444444444444444,
              "#bd3786"
             ],
             [
              0.5555555555555556,
              "#d8576b"
             ],
             [
              0.6666666666666666,
              "#ed7953"
             ],
             [
              0.7777777777777778,
              "#fb9f3a"
             ],
             [
              0.8888888888888888,
              "#fdca26"
             ],
             [
              1,
              "#f0f921"
             ]
            ],
            "type": "contour"
           }
          ],
          "contourcarpet": [
           {
            "colorbar": {
             "outlinewidth": 0,
             "ticks": ""
            },
            "type": "contourcarpet"
           }
          ],
          "heatmap": [
           {
            "colorbar": {
             "outlinewidth": 0,
             "ticks": ""
            },
            "colorscale": [
             [
              0,
              "#0d0887"
             ],
             [
              0.1111111111111111,
              "#46039f"
             ],
             [
              0.2222222222222222,
              "#7201a8"
             ],
             [
              0.3333333333333333,
              "#9c179e"
             ],
             [
              0.4444444444444444,
              "#bd3786"
             ],
             [
              0.5555555555555556,
              "#d8576b"
             ],
             [
              0.6666666666666666,
              "#ed7953"
             ],
             [
              0.7777777777777778,
              "#fb9f3a"
             ],
             [
              0.8888888888888888,
              "#fdca26"
             ],
             [
              1,
              "#f0f921"
             ]
            ],
            "type": "heatmap"
           }
          ],
          "histogram": [
           {
            "marker": {
             "pattern": {
              "fillmode": "overlay",
              "size": 10,
              "solidity": 0.2
             }
            },
            "type": "histogram"
           }
          ],
          "histogram2d": [
           {
            "colorbar": {
             "outlinewidth": 0,
             "ticks": ""
            },
            "colorscale": [
             [
              0,
              "#0d0887"
             ],
             [
              0.1111111111111111,
              "#46039f"
             ],
             [
              0.2222222222222222,
              "#7201a8"
             ],
             [
              0.3333333333333333,
              "#9c179e"
             ],
             [
              0.4444444444444444,
              "#bd3786"
             ],
             [
              0.5555555555555556,
              "#d8576b"
             ],
             [
              0.6666666666666666,
              "#ed7953"
             ],
             [
              0.7777777777777778,
              "#fb9f3a"
             ],
             [
              0.8888888888888888,
              "#fdca26"
             ],
             [
              1,
              "#f0f921"
             ]
            ],
            "type": "histogram2d"
           }
          ],
          "histogram2dcontour": [
           {
            "colorbar": {
             "outlinewidth": 0,
             "ticks": ""
            },
            "colorscale": [
             [
              0,
              "#0d0887"
             ],
             [
              0.1111111111111111,
              "#46039f"
             ],
             [
              0.2222222222222222,
              "#7201a8"
             ],
             [
              0.3333333333333333,
              "#9c179e"
             ],
             [
              0.4444444444444444,
              "#bd3786"
             ],
             [
              0.5555555555555556,
              "#d8576b"
             ],
             [
              0.6666666666666666,
              "#ed7953"
             ],
             [
              0.7777777777777778,
              "#fb9f3a"
             ],
             [
              0.8888888888888888,
              "#fdca26"
             ],
             [
              1,
              "#f0f921"
             ]
            ],
            "type": "histogram2dcontour"
           }
          ],
          "mesh3d": [
           {
            "colorbar": {
             "outlinewidth": 0,
             "ticks": ""
            },
            "type": "mesh3d"
           }
          ],
          "parcoords": [
           {
            "line": {
             "colorbar": {
              "outlinewidth": 0,
              "ticks": ""
             }
            },
            "type": "parcoords"
           }
          ],
          "pie": [
           {
            "automargin": true,
            "type": "pie"
           }
          ],
          "scatter": [
           {
            "fillpattern": {
             "fillmode": "overlay",
             "size": 10,
             "solidity": 0.2
            },
            "type": "scatter"
           }
          ],
          "scatter3d": [
           {
            "line": {
             "colorbar": {
              "outlinewidth": 0,
              "ticks": ""
             }
            },
            "marker": {
             "colorbar": {
              "outlinewidth": 0,
              "ticks": ""
             }
            },
            "type": "scatter3d"
           }
          ],
          "scattercarpet": [
           {
            "marker": {
             "colorbar": {
              "outlinewidth": 0,
              "ticks": ""
             }
            },
            "type": "scattercarpet"
           }
          ],
          "scattergeo": [
           {
            "marker": {
             "colorbar": {
              "outlinewidth": 0,
              "ticks": ""
             }
            },
            "type": "scattergeo"
           }
          ],
          "scattergl": [
           {
            "marker": {
             "colorbar": {
              "outlinewidth": 0,
              "ticks": ""
             }
            },
            "type": "scattergl"
           }
          ],
          "scattermap": [
           {
            "marker": {
             "colorbar": {
              "outlinewidth": 0,
              "ticks": ""
             }
            },
            "type": "scattermap"
           }
          ],
          "scattermapbox": [
           {
            "marker": {
             "colorbar": {
              "outlinewidth": 0,
              "ticks": ""
             }
            },
            "type": "scattermapbox"
           }
          ],
          "scatterpolar": [
           {
            "marker": {
             "colorbar": {
              "outlinewidth": 0,
              "ticks": ""
             }
            },
            "type": "scatterpolar"
           }
          ],
          "scatterpolargl": [
           {
            "marker": {
             "colorbar": {
              "outlinewidth": 0,
              "ticks": ""
             }
            },
            "type": "scatterpolargl"
           }
          ],
          "scatterternary": [
           {
            "marker": {
             "colorbar": {
              "outlinewidth": 0,
              "ticks": ""
             }
            },
            "type": "scatterternary"
           }
          ],
          "surface": [
           {
            "colorbar": {
             "outlinewidth": 0,
             "ticks": ""
            },
            "colorscale": [
             [
              0,
              "#0d0887"
             ],
             [
              0.1111111111111111,
              "#46039f"
             ],
             [
              0.2222222222222222,
              "#7201a8"
             ],
             [
              0.3333333333333333,
              "#9c179e"
             ],
             [
              0.4444444444444444,
              "#bd3786"
             ],
             [
              0.5555555555555556,
              "#d8576b"
             ],
             [
              0.6666666666666666,
              "#ed7953"
             ],
             [
              0.7777777777777778,
              "#fb9f3a"
             ],
             [
              0.8888888888888888,
              "#fdca26"
             ],
             [
              1,
              "#f0f921"
             ]
            ],
            "type": "surface"
           }
          ],
          "table": [
           {
            "cells": {
             "fill": {
              "color": "#EBF0F8"
             },
             "line": {
              "color": "white"
             }
            },
            "header": {
             "fill": {
              "color": "#C8D4E3"
             },
             "line": {
              "color": "white"
             }
            },
            "type": "table"
           }
          ]
         },
         "layout": {
          "annotationdefaults": {
           "arrowcolor": "#2a3f5f",
           "arrowhead": 0,
           "arrowwidth": 1
          },
          "autotypenumbers": "strict",
          "coloraxis": {
           "colorbar": {
            "outlinewidth": 0,
            "ticks": ""
           }
          },
          "colorscale": {
           "diverging": [
            [
             0,
             "#8e0152"
            ],
            [
             0.1,
             "#c51b7d"
            ],
            [
             0.2,
             "#de77ae"
            ],
            [
             0.3,
             "#f1b6da"
            ],
            [
             0.4,
             "#fde0ef"
            ],
            [
             0.5,
             "#f7f7f7"
            ],
            [
             0.6,
             "#e6f5d0"
            ],
            [
             0.7,
             "#b8e186"
            ],
            [
             0.8,
             "#7fbc41"
            ],
            [
             0.9,
             "#4d9221"
            ],
            [
             1,
             "#276419"
            ]
           ],
           "sequential": [
            [
             0,
             "#0d0887"
            ],
            [
             0.1111111111111111,
             "#46039f"
            ],
            [
             0.2222222222222222,
             "#7201a8"
            ],
            [
             0.3333333333333333,
             "#9c179e"
            ],
            [
             0.4444444444444444,
             "#bd3786"
            ],
            [
             0.5555555555555556,
             "#d8576b"
            ],
            [
             0.6666666666666666,
             "#ed7953"
            ],
            [
             0.7777777777777778,
             "#fb9f3a"
            ],
            [
             0.8888888888888888,
             "#fdca26"
            ],
            [
             1,
             "#f0f921"
            ]
           ],
           "sequentialminus": [
            [
             0,
             "#0d0887"
            ],
            [
             0.1111111111111111,
             "#46039f"
            ],
            [
             0.2222222222222222,
             "#7201a8"
            ],
            [
             0.3333333333333333,
             "#9c179e"
            ],
            [
             0.4444444444444444,
             "#bd3786"
            ],
            [
             0.5555555555555556,
             "#d8576b"
            ],
            [
             0.6666666666666666,
             "#ed7953"
            ],
            [
             0.7777777777777778,
             "#fb9f3a"
            ],
            [
             0.8888888888888888,
             "#fdca26"
            ],
            [
             1,
             "#f0f921"
            ]
           ]
          },
          "colorway": [
           "#636efa",
           "#EF553B",
           "#00cc96",
           "#ab63fa",
           "#FFA15A",
           "#19d3f3",
           "#FF6692",
           "#B6E880",
           "#FF97FF",
           "#FECB52"
          ],
          "font": {
           "color": "#2a3f5f"
          },
          "geo": {
           "bgcolor": "white",
           "lakecolor": "white",
           "landcolor": "white",
           "showlakes": true,
           "showland": true,
           "subunitcolor": "#C8D4E3"
          },
          "hoverlabel": {
           "align": "left"
          },
          "hovermode": "closest",
          "mapbox": {
           "style": "light"
          },
          "paper_bgcolor": "white",
          "plot_bgcolor": "white",
          "polar": {
           "angularaxis": {
            "gridcolor": "#EBF0F8",
            "linecolor": "#EBF0F8",
            "ticks": ""
           },
           "bgcolor": "white",
           "radialaxis": {
            "gridcolor": "#EBF0F8",
            "linecolor": "#EBF0F8",
            "ticks": ""
           }
          },
          "scene": {
           "xaxis": {
            "backgroundcolor": "white",
            "gridcolor": "#DFE8F3",
            "gridwidth": 2,
            "linecolor": "#EBF0F8",
            "showbackground": true,
            "ticks": "",
            "zerolinecolor": "#EBF0F8"
           },
           "yaxis": {
            "backgroundcolor": "white",
            "gridcolor": "#DFE8F3",
            "gridwidth": 2,
            "linecolor": "#EBF0F8",
            "showbackground": true,
            "ticks": "",
            "zerolinecolor": "#EBF0F8"
           },
           "zaxis": {
            "backgroundcolor": "white",
            "gridcolor": "#DFE8F3",
            "gridwidth": 2,
            "linecolor": "#EBF0F8",
            "showbackground": true,
            "ticks": "",
            "zerolinecolor": "#EBF0F8"
           }
          },
          "shapedefaults": {
           "line": {
            "color": "#2a3f5f"
           }
          },
          "ternary": {
           "aaxis": {
            "gridcolor": "#DFE8F3",
            "linecolor": "#A2B1C6",
            "ticks": ""
           },
           "baxis": {
            "gridcolor": "#DFE8F3",
            "linecolor": "#A2B1C6",
            "ticks": ""
           },
           "bgcolor": "white",
           "caxis": {
            "gridcolor": "#DFE8F3",
            "linecolor": "#A2B1C6",
            "ticks": ""
           }
          },
          "title": {
           "x": 0.05
          },
          "xaxis": {
           "automargin": true,
           "gridcolor": "#EBF0F8",
           "linecolor": "#EBF0F8",
           "ticks": "",
           "title": {
            "standoff": 15
           },
           "zerolinecolor": "#EBF0F8",
           "zerolinewidth": 2
          },
          "yaxis": {
           "automargin": true,
           "gridcolor": "#EBF0F8",
           "linecolor": "#EBF0F8",
           "ticks": "",
           "title": {
            "standoff": 15
           },
           "zerolinecolor": "#EBF0F8",
           "zerolinewidth": 2
          }
         }
        },
        "title": {
         "text": "Sentiment Proportions by Destination"
        },
        "xaxis": {
         "tickangle": -45,
         "title": {
          "text": "Tweet Destination"
         }
        },
        "yaxis": {
         "title": {
          "text": "Percentage"
         }
        }
       }
      }
     },
     "metadata": {},
     "output_type": "display_data"
    }
   ],
   "source": [
    "# Plot 5: Sentiment Proportions by Destination\n",
    "\n",
    "# Create percentage data from the crosstab\n",
    "sentiment_dest_pct = sentiment_destination.div(sentiment_destination.sum(axis=1), axis=0) * 100\n",
    "\n",
    "# Define custom colors for each sentiment\n",
    "sentiment_colors = {\n",
    "    'Positive emotion': '#2ecc71',   # green\n",
    "    'Negative emotion': '#e74c3c',   # red\n",
    "    'Neutral emotion':  '#f1c40f'    # yellow\n",
    "}\n",
    "\n",
    "fig = go.Figure()\n",
    "\n",
    "for sentiment in sentiment_dest_pct.columns:\n",
    "    fig.add_trace(go.Bar(\n",
    "        x=sentiment_dest_pct.index,\n",
    "        y=sentiment_dest_pct[sentiment],\n",
    "        name=sentiment,\n",
    "        text=sentiment_dest_pct[sentiment].round(1).astype(str) + '%',\n",
    "        textposition='auto',\n",
    "        marker_color=sentiment_colors.get(sentiment, None)\n",
    "    ))\n",
    "\n",
    "fig.update_layout(\n",
    "    barmode='stack',\n",
    "    title='Sentiment Proportions by Destination',\n",
    "    xaxis_title='Tweet Destination',\n",
    "    yaxis_title='Percentage',\n",
    "    legend_title='Sentiment',\n",
    "    xaxis_tickangle=-45,\n",
    "    template='plotly_white',\n",
    "    # width=1200,\n",
    "    height=800\n",
    ")\n",
    "\n",
    "fig.show()"
   ]
  },
  {
   "cell_type": "markdown",
   "id": "94be5f0b",
   "metadata": {},
   "source": [
    "This plot shows the percentage distribution of positive, neutral and negative sentiments across the top five tweet destinations:\n",
    "\n",
    "- Apple, iPad, and iPad or iPhone App show strong positive sentiment, exceeding 80%.\n",
    "\n",
    "- Google also records high positivity at about 80% but slightly higher negative and neutral shares than Apple destinations.\n",
    "\n",
    "- Not directed tweets are mostly neutral at 93.8%, showing minimal sentiment variation.\n",
    "\n",
    "- This shows that tweets targeting Apple and Google products highlight favourable public perception, while non-targeted tweets remain mostly neutral."
   ]
  },
  {
   "cell_type": "markdown",
   "id": "65a9fb4e",
   "metadata": {},
   "source": [
    "#### 2.3.5 Tweet Length Distribution by Sentiment\n",
    "\n",
    "This section shows the distribution of tweet lengths (measured in number of characters) across the three sentiment categories: Positive, Negative and Neutral.\n",
    "\n",
    "The boxplot below illustrates the median, quartiles and outliers within each sentiment class to identify potential differences in how users express their opinions. Analyzing tweet length by sentiment helps determine whether certain emotions are conveyed through shorter or longer tweets."
   ]
  },
  {
   "cell_type": "code",
   "execution_count": 46,
   "id": "af0e6a8c",
   "metadata": {},
   "outputs": [
    {
     "data": {
      "text/plain": [
       "([0, 1, 2],\n",
       " [Text(0, 0, 'Negative emotion'),\n",
       "  Text(1, 0, 'Positive emotion'),\n",
       "  Text(2, 0, 'Neutral emotion')])"
      ]
     },
     "execution_count": 46,
     "metadata": {},
     "output_type": "execute_result"
    },
    {
     "data": {
      "image/png": "[encoded data removed]",
      "text/plain": [
       "<Figure size 1300x700 with 1 Axes>"
      ]
     },
     "metadata": {},
     "output_type": "display_data"
    }
   ],
   "source": [
    "# Plot 6: Tweet Length Distribution by Sentiment\n",
    "\n",
    "plt.figure(figsize=(13, 7))\n",
    "data['tweet_length'] = data['tweet'].str.len()\n",
    "sns.boxplot(data=data, x='sentiment', y='tweet_length', palette='Set2')\n",
    "plt.title('Tweet Length by Sentiment', fontsize=12, fontweight='bold')\n",
    "plt.xlabel('Sentiment')\n",
    "plt.ylabel('Tweet Length (characters)')\n",
    "plt.xticks(rotation=45)"
   ]
  },
  {
   "cell_type": "markdown",
   "id": "4410159a",
   "metadata": {},
   "source": [
    "The boxplot above shows the distribution of tweet lengths (in number of characters) across the three sentiment categories: Positive, Negative and Neutral.\n",
    "\n",
    "- Neutral tweets has a wider range of lengths. The median length remains consistent across all sentiment groups.\n",
    "\n",
    "- Outliers with longer tweet lengths are present within each sentiment category.\n",
    "\n",
    "- The tweet length shows little variation across sentiments. This shows that sentiment type is not strongly associated with tweet length in this dataset."
   ]
  },
  {
   "cell_type": "markdown",
   "id": "2ecac67e",
   "metadata": {},
   "source": [
    "#### 2.3.6 Distribution of Character, Word and Sentence Counts\n",
    "\n",
    "This section examines the basic linguistic structure of tweets by analyzing the distribution of character, word and sentence counts. This helps in understanding the length, complexity and composition of tweets across different sentiment categories.\n",
    "\n",
    "New features such as chars, words and sentences are created to quantify these properties for each tweet. Analyzing the distributions helps to:\n",
    "\n",
    "- Identify patterns in tweet length and complexity across sentiments.\n",
    "\n",
    "- Detect differences between sentiment classes, such as whether negative tweets are shorter or more direct.\n",
    "\n",
    "- Show potential data quality issues. This could include outliers or anomalies in text length.\n",
    "\n",
    "- Reveal feature engineering opportunities that can improve sentiment classification performance.\n",
    "\n",
    "These analyses provide a detailed view of the dataset’s linguistic characteristics. This supports more effective preprocessing and model development."
   ]
  },
  {
   "cell_type": "code",
   "execution_count": 47,
   "id": "15b0925b",
   "metadata": {},
   "outputs": [
    {
     "data": {
      "text/html": [
       "<div>\n",
       "<style scoped>\n",
       "    .dataframe tbody tr th:only-of-type {\n",
       "        vertical-align: middle;\n",
       "    }\n",
       "\n",
       "    .dataframe tbody tr th {\n",
       "        vertical-align: top;\n",
       "    }\n",
       "\n",
       "    .dataframe thead th {\n",
       "        text-align: right;\n",
       "    }\n",
       "</style>\n",
       "<table border=\"1\" class=\"dataframe\">\n",
       "  <thead>\n",
       "    <tr style=\"text-align: right;\">\n",
       "      <th></th>\n",
       "      <th>tweet</th>\n",
       "      <th>tweet_directed_at</th>\n",
       "      <th>sentiment</th>\n",
       "      <th>tweet_length</th>\n",
       "      <th>chars</th>\n",
       "      <th>words</th>\n",
       "      <th>sentences</th>\n",
       "    </tr>\n",
       "  </thead>\n",
       "  <tbody>\n",
       "    <tr>\n",
       "      <th>0</th>\n",
       "      <td>.@wesley83 I have a 3G iPhone. After 3 hrs twe...</td>\n",
       "      <td>iPhone</td>\n",
       "      <td>Negative emotion</td>\n",
       "      <td>127</td>\n",
       "      <td>127</td>\n",
       "      <td>32</td>\n",
       "      <td>5</td>\n",
       "    </tr>\n",
       "    <tr>\n",
       "      <th>1</th>\n",
       "      <td>@jessedee Know about @fludapp ? Awesome iPad/i...</td>\n",
       "      <td>iPad or iPhone App</td>\n",
       "      <td>Positive emotion</td>\n",
       "      <td>139</td>\n",
       "      <td>139</td>\n",
       "      <td>29</td>\n",
       "      <td>3</td>\n",
       "    </tr>\n",
       "    <tr>\n",
       "      <th>2</th>\n",
       "      <td>@swonderlin Can not wait for #iPad 2 also. The...</td>\n",
       "      <td>iPad</td>\n",
       "      <td>Positive emotion</td>\n",
       "      <td>79</td>\n",
       "      <td>79</td>\n",
       "      <td>20</td>\n",
       "      <td>2</td>\n",
       "    </tr>\n",
       "    <tr>\n",
       "      <th>3</th>\n",
       "      <td>@sxsw I hope this year's festival isn't as cra...</td>\n",
       "      <td>iPad or iPhone App</td>\n",
       "      <td>Negative emotion</td>\n",
       "      <td>82</td>\n",
       "      <td>82</td>\n",
       "      <td>21</td>\n",
       "      <td>2</td>\n",
       "    </tr>\n",
       "    <tr>\n",
       "      <th>4</th>\n",
       "      <td>@sxtxstate great stuff on Fri #SXSW: Marissa M...</td>\n",
       "      <td>Google</td>\n",
       "      <td>Positive emotion</td>\n",
       "      <td>131</td>\n",
       "      <td>131</td>\n",
       "      <td>29</td>\n",
       "      <td>1</td>\n",
       "    </tr>\n",
       "  </tbody>\n",
       "</table>\n",
       "</div>"
      ],
      "text/plain": [
       "                                               tweet   tweet_directed_at  \\\n",
       "0  .@wesley83 I have a 3G iPhone. After 3 hrs twe...              iPhone   \n",
       "1  @jessedee Know about @fludapp ? Awesome iPad/i...  iPad or iPhone App   \n",
       "2  @swonderlin Can not wait for #iPad 2 also. The...                iPad   \n",
       "3  @sxsw I hope this year's festival isn't as cra...  iPad or iPhone App   \n",
       "4  @sxtxstate great stuff on Fri #SXSW: Marissa M...              Google   \n",
       "\n",
       "          sentiment  tweet_length  chars  words  sentences  \n",
       "0  Negative emotion           127    127     32          5  \n",
       "1  Positive emotion           139    139     29          3  \n",
       "2  Positive emotion            79     79     20          2  \n",
       "3  Negative emotion            82     82     21          2  \n",
       "4  Positive emotion           131    131     29          1  "
      ]
     },
     "execution_count": 47,
     "metadata": {},
     "output_type": "execute_result"
    }
   ],
   "source": [
    "# Feature engineering\n",
    "def generate_columns(df):\n",
    "    df['chars'] = df['tweet'].apply(len)\n",
    "    df['words'] = df['tweet'].apply(lambda x: nltk.word_tokenize(x)).apply(len)\n",
    "    df['sentences'] = df['tweet'].apply(lambda x: nltk.sent_tokenize(x)).apply(len)\n",
    "    return df\n",
    "data = generate_columns(data)\n",
    "data.head()"
   ]
  },
  {
   "cell_type": "code",
   "execution_count": 48,
   "id": "97aee22d",
   "metadata": {},
   "outputs": [
    {
     "data": {
      "text/plain": [
       "Text(0, 0.5, 'Frequency')"
      ]
     },
     "execution_count": 48,
     "metadata": {},
     "output_type": "execute_result"
    },
    {
     "data": {
      "image/png": "[encoded data removed]",
      "text/plain": [
       "<Figure size 1300x700 with 1 Axes>"
      ]
     },
     "metadata": {},
     "output_type": "display_data"
    }
   ],
   "source": [
    "# Plot 7: Word Count Distribution\n",
    "\n",
    "plt.figure(figsize=(13, 7))\n",
    "sns.histplot(data=data, x='words', bins=30, kde=True, color='blue')\n",
    "plt.title('Distribution of Word Count', fontweight='bold')\n",
    "plt.xlabel('Words per Tweet')\n",
    "plt.ylabel('Frequency')"
   ]
  },
  {
   "cell_type": "markdown",
   "id": "7492b3ba",
   "metadata": {},
   "source": [
    "From the histogram above, the following were observed:\n",
    "\n",
    "- The data is approximately normally distributed with most tweets containing 20–30 words.\n",
    "\n",
    "- The distribution is slightly right-skewed. This shows that longer tweets of above 35 words are less frequent than shorter ones."
   ]
  },
  {
   "cell_type": "code",
   "execution_count": 49,
   "id": "a1f5c9a7",
   "metadata": {},
   "outputs": [
    {
     "data": {
      "text/plain": [
       "([0, 1, 2],\n",
       " [Text(0, 0, 'Negative emotion'),\n",
       "  Text(1, 0, 'Positive emotion'),\n",
       "  Text(2, 0, 'Neutral emotion')])"
      ]
     },
     "execution_count": 49,
     "metadata": {},
     "output_type": "execute_result"
    },
    {
     "data": {
      "image/png": "[encoded data removed]",
      "text/plain": [
       "<Figure size 1300x700 with 1 Axes>"
      ]
     },
     "metadata": {},
     "output_type": "display_data"
    }
   ],
   "source": [
    "# Plot 8: Word Count by Sentiment\n",
    "\n",
    "plt.figure(figsize=(13, 7))\n",
    "sns.boxplot(data=data, x='sentiment', y='words', palette='Set1')\n",
    "plt.title('Word Count by Sentiment', fontweight='bold')\n",
    "plt.xlabel('Sentiment')\n",
    "plt.ylabel('Word Count')\n",
    "plt.xticks(rotation=45)"
   ]
  },
  {
   "cell_type": "markdown",
   "id": "3dc91484",
   "metadata": {},
   "source": [
    "From the boxplot above, the following were observed:\n",
    "\n",
    "- Negative and Neutral sentiments have a slightly higher median word count of about 25 words.\n",
    "\n",
    "- Positive tweets are  shorter on average with about 22 words.\n",
    "\n",
    "- Positive and Neutral categories contain more outliers. This shows a few unusually long tweets.\n",
    "\n",
    "- The word count distributions are similar across sentiments with only minor differences in median and spread."
   ]
  },
  {
   "cell_type": "code",
   "execution_count": 50,
   "id": "c7e7da3b",
   "metadata": {},
   "outputs": [
    {
     "data": {
      "text/plain": [
       "Text(0, 0.5, 'Frequency')"
      ]
     },
     "execution_count": 50,
     "metadata": {},
     "output_type": "execute_result"
    },
    {
     "data": {
      "image/png": "[encoded data removed]",
      "text/plain": [
       "<Figure size 1300x700 with 1 Axes>"
      ]
     },
     "metadata": {},
     "output_type": "display_data"
    }
   ],
   "source": [
    "# Plot 9: Character Count Distribution\n",
    "\n",
    "plt.figure(figsize=(13, 7))\n",
    "sns.histplot(data=data, x='chars', bins=30, kde=True, color='darkorange')\n",
    "plt.title('Distribution of Character Count', fontweight='bold')\n",
    "plt.xlabel('Characters per Tweet')\n",
    "plt.ylabel('Frequency')"
   ]
  },
  {
   "cell_type": "markdown",
   "id": "30d38c44",
   "metadata": {},
   "source": [
    "From the histogram above, the following were observed:\n",
    "\n",
    "- Most tweets cluster between 75–150 characters with a peak around 125 characters.\n",
    "\n",
    "- The density curve reinforces this central tendency showing that users often maximize available space in tweets.\n",
    "\n",
    "- Very short or very long tweets are few. This shows a preference for mid length and concise messages that fit platform conventions and optimize clarity."
   ]
  },
  {
   "cell_type": "code",
   "execution_count": 51,
   "id": "8dae75f5",
   "metadata": {},
   "outputs": [
    {
     "data": {
      "text/plain": [
       "Text(0, 0.5, 'Character Count')"
      ]
     },
     "execution_count": 51,
     "metadata": {},
     "output_type": "execute_result"
    },
    {
     "data": {
      "image/png": "[encoded data removed]",
      "text/plain": [
       "<Figure size 1300x700 with 1 Axes>"
      ]
     },
     "metadata": {},
     "output_type": "display_data"
    }
   ],
   "source": [
    "# Plot 10: Character Count by Sentiment\n",
    "\n",
    "plt.figure(figsize=(13, 7))\n",
    "sns.boxplot(data=data, x='sentiment', y='chars', palette='viridis')\n",
    "plt.title('Character Count by Sentiment', fontweight='bold')\n",
    "plt.xlabel('Sentiment')\n",
    "plt.ylabel('Character Count')"
   ]
  },
  {
   "cell_type": "markdown",
   "id": "c975dea0",
   "metadata": {},
   "source": [
    "The boxplot above shows that:\n",
    "\n",
    "- Positive and Negative tweets have a similar distribution with a median of about 125 characters and an IQR between 100–150 characters.\n",
    "\n",
    "- Neutral tweets are shorter with a median of around 100 characters and an IQR of 75–125.\n",
    "\n",
    "- Two outliers below 25 characters appear in the Neutral category. This shows unusually short tweets.\n",
    "\n",
    "- Tweets with emotional tone either Positive or Negative tend to be longer, while Neutral tweets are shorter and more variable."
   ]
  },
  {
   "cell_type": "code",
   "execution_count": 52,
   "id": "b90b2f4e",
   "metadata": {},
   "outputs": [
    {
     "data": {
      "text/plain": [
       "Text(0, 0.5, 'Frequency')"
      ]
     },
     "execution_count": 52,
     "metadata": {},
     "output_type": "execute_result"
    },
    {
     "data": {
      "image/png": "[encoded data removed]",
      "text/plain": [
       "<Figure size 1300x700 with 1 Axes>"
      ]
     },
     "metadata": {},
     "output_type": "display_data"
    }
   ],
   "source": [
    "# Plot 11: Sentence Count Distribution\n",
    "\n",
    "plt.figure(figsize=(13, 7))\n",
    "sns.histplot(data=data, x='sentences', bins=30, kde=True, color='green')\n",
    "plt.title('Distribution of Sentence Count', fontweight='bold')\n",
    "plt.xlabel('Sentences per Tweet')\n",
    "plt.ylabel('Frequency')"
   ]
  },
  {
   "cell_type": "markdown",
   "id": "c289ceff",
   "metadata": {},
   "source": [
    "From the sentence count distribution above, the following were observed:\n",
    "\n",
    "- The histogram is right-skewed. This shows that most tweets are short and the frequency decreases as sentence count increases.\n",
    "\n",
    "- Tweets with 1 or 2 sentences dominate the distribution with over 3,000 tweets. Those with 3 sentences account for around 1,500 tweets after which the count declines.\n",
    "\n",
    "- The right skew shows that only a few users post tweets containing multiple sentences.\n",
    "\n",
    "- The density curve confirms the concentration at low sentence counts, peaking near 1 and 2."
   ]
  },
  {
   "cell_type": "code",
   "execution_count": 53,
   "id": "62038bb3",
   "metadata": {},
   "outputs": [
    {
     "data": {
      "text/plain": [
       "Text(0, 0.5, 'Sentence Count')"
      ]
     },
     "execution_count": 53,
     "metadata": {},
     "output_type": "execute_result"
    },
    {
     "data": {
      "image/png": "[encoded data removed]",
      "text/plain": [
       "<Figure size 1300x700 with 1 Axes>"
      ]
     },
     "metadata": {},
     "output_type": "display_data"
    }
   ],
   "source": [
    "# Plot 12: Sentence Count by Sentiment\n",
    "\n",
    "plt.figure(figsize=(13, 7))\n",
    "sns.boxplot(data=data, x='sentiment', y='sentences', palette='Set3')\n",
    "plt.title('Sentence Count by Sentiment', fontweight='bold')\n",
    "plt.xlabel('Sentiment')\n",
    "plt.ylabel('Sentence Count')"
   ]
  },
  {
   "cell_type": "markdown",
   "id": "10d3e221",
   "metadata": {},
   "source": [
    "The boxplot above shows the distribution of sentence counts across Negative, Positive, and Neutral tweets.\n",
    "\n",
    "- Negative and Positive tweets share a similar pattern with a median of 3 sentences, an IQR between 2–3 and a few outliers reaching 6–7 sentences.\n",
    "\n",
    "- Neutral tweets are shorter with a median of 2 sentences, an IQR between 1–2 and several outliers up to 6 sentences.\n",
    "\n",
    "- Tweets with emotional tone either Positive or Negative tend to be longer while Neutral tweets are shorter and more concise."
   ]
  },
  {
   "cell_type": "markdown",
   "id": "6087d228",
   "metadata": {},
   "source": [
    "## 3. Data Cleaning and Preprocessing\n",
    "\n",
    "This section focuses on preparing the dataset for analysis by applying systematic data cleaning, normalization and feature extraction procedures.\n",
    "\n",
    "The aim is to transform raw, unstructured text into a clean and structured format suitable for effective sentiment classification.\n",
    "\n",
    "These steps ensure data consistency, reduce noise and enhance the quality of features used for modeling."
   ]
  },
  {
   "cell_type": "markdown",
   "id": "9cc2fd84",
   "metadata": {},
   "source": [
    "### 3.1 Tweet Preprocessing Pipeline\n",
    "\n",
    "In this step, a custom TweetPreprocessor class is introduced. It is designed to automate and standardize the text cleaning and feature extraction process for Twitter sentiment analysis.\n",
    "\n",
    "A custom TweetPreprocessor performs the following:\n",
    "\n",
    "- Cleaning: Removes URLs, @mentions and hashtags. It expands contractions,  normalizes repeated letters and strips special characters. In addition, it standardizes punctuation and whitespace.\n",
    "\n",
    "- Linguistic Preprocessing: Converts to lowercase, tokenizes, removes stopwords and short tokens. In addition it lemmatizes to base forms.\n",
    "\n",
    "- Feature Extraction: Transforms text to TF-IDF (default) or Count vectors with configurable n-grams, vocabulary size and document-frequency thresholds.\n",
    "\n",
    "- Integration: Scikit-learn–compatible (fit, transform, fit_transform) for reproducible training and inference.\n",
    "\n",
    "This ensures reliable text features that improve model clarity, comparability and downstream evaluation.\n"
   ]
  },
  {
   "cell_type": "code",
   "execution_count": 54,
   "id": "09092e68",
   "metadata": {},
   "outputs": [],
   "source": [
    "class TweetPreprocessor(BaseEstimator, TransformerMixin):\n",
    "    \n",
    "    def __init__(self,\n",
    "                 remove_urls=True,\n",
    "                 remove_mentions=True,\n",
    "                 remove_hashtags=True,\n",
    "                 remove_stopwords=True,\n",
    "                 lemmatize=True,\n",
    "                 lowercase=True,\n",
    "                 min_length=2,\n",
    "                 expand_contractions=True,  # New feature\n",
    "                 remove_repeated_chars=True,  # New feature\n",
    "                 tfidf_max_features=5000,\n",
    "                 tfidf_ngram_range=(1, 2),\n",
    "                 tfidf_min_df=1,  # Changed from 1 to prevent errors\n",
    "                 tfidf_max_df=1.0,  # Changed from 0.95 to 1.0 for safer handling\n",
    "                 use_tfidf=True):\n",
    "        \n",
    "# Initialize the TweetPreprocessor         \n",
    "        self.remove_urls = remove_urls\n",
    "        self.remove_mentions = remove_mentions\n",
    "        self.remove_hashtags = remove_hashtags\n",
    "        self.remove_stopwords = remove_stopwords\n",
    "        self.lemmatize = lemmatize\n",
    "        self.lowercase = lowercase\n",
    "        self.min_length = min_length\n",
    "        self.expand_contractions = expand_contractions\n",
    "        self.remove_repeated_chars = remove_repeated_chars\n",
    "        self.tfidf_max_features = tfidf_max_features\n",
    "        self.tfidf_ngram_range = tfidf_ngram_range\n",
    "        self.tfidf_min_df = tfidf_min_df\n",
    "        self.tfidf_max_df = tfidf_max_df\n",
    "        self.use_tfidf = use_tfidf\n",
    "\n",
    "# Initialize the components\n",
    "        self.stop_words = set(stopwords.words('english'))\n",
    "        self.lemmatizer = WordNetLemmatizer()\n",
    "        self.vectorizer = None\n",
    "\n",
    "# Contraction mapping\n",
    "        self.contractions = {\n",
    "            \"won't\": \"will not\", \"can't\": \"cannot\", \"n't\": \" not\",\n",
    "            \"'re\": \" are\", \"'ve\": \" have\", \"'ll\": \" will\",\n",
    "            \"'d\": \" would\", \"'m\": \" am\", \"it's\": \"it is\",\n",
    "            \"that's\": \"that is\", \"what's\": \"what is\",\n",
    "            \"there's\": \"there is\", \"here's\": \"here is\"\n",
    "        }\n",
    "\n",
    "def _extract_text_from_input(self, X):\n",
    "        if hasattr(X, 'values'):\n",
    "# Handle pandas DataFrame or Series\n",
    "            if hasattr(X, 'columns'):\n",
    "# Check for tweet column or use the first column\n",
    "                if 'tweet' in X.columns:\n",
    "                    return X['tweet'].values\n",
    "                else:\n",
    "                    return X.iloc[:, 0].values\n",
    "            else:\n",
    "# Series\n",
    "                return X.values\n",
    "        elif isinstance(X, (list, tuple)):\n",
    "# Handle list or tuple\n",
    "            return X\n",
    "        else:\n",
    "# Handle numpy array or other array-like\n",
    "            return X\n",
    "        \n",
    "def expand_contractions_text(self, text):\n",
    "# Expand contractions in text\n",
    "        if not self.expand_contractions:\n",
    "            return text\n",
    "        \n",
    "        for contraction, expansion in self.contractions.items():\n",
    "            text = text.replace(contraction, expansion)\n",
    "        return text\n",
    "\n",
    "def remove_repeated_characters(self, text):\n",
    "# Remove repeated characters\n",
    "        if not self.remove_repeated_chars:\n",
    "            return text   \n",
    "# Replace more than 3 repeated characters with 2\n",
    "        return re.sub(r'(.)\\1{2,}', r'\\1\\1', text)\n",
    "\n",
    "# Data Cleaning Function\n",
    "def clean_text(self, text):\n",
    "# Return empty string if text is NaN\n",
    "        if pd.isna(text):\n",
    "            return ''      \n",
    "# Convert to string if not already\n",
    "        text = str(text)\n",
    "# Expand contractions first\n",
    "        text = self.expand_contractions_text(text)     \n",
    "# Remove repeated characters\n",
    "        text = self.remove_repeated_characters(text)\n",
    "# Remove URLs\n",
    "        if self.remove_urls:\n",
    "            text = re.sub(r'http\\S+|www\\S+|https\\S+', '', text, flags=re.MULTILINE)\n",
    "# Remove mentions\n",
    "        if self.remove_mentions:\n",
    "            text = re.sub(r'@\\w+', '', text)\n",
    "            # remove hashtags (but keep the text)\n",
    "        if self.remove_hashtags:\n",
    "            text = re.sub(r'#', '', text)\n",
    "# Remove special characters and numbers\n",
    "        text = re.sub(r'[^a-zA-Z\\s!?]', '', text)\n",
    "# Convert multiple exclamation and question marks to single\n",
    "        text = re.sub(r'!+', '!', text)\n",
    "        text = re.sub(r'\\?+', '?', text)\n",
    "# Remove extra whitespace\n",
    "        text = re.sub(r'\\s+', ' ', text).strip()\n",
    "\n",
    "        return text\n",
    "\n",
    "# Text Preprocessing Function\n",
    "def preprocess_text(self, text):\n",
    "# Return an empty string if not text\n",
    "        if not text:\n",
    "            return '' \n",
    "# Convert text to lowercase\n",
    "        if self.lowercase:\n",
    "            text = text.lower()\n",
    "# Tokenize the text\n",
    "        tokens = word_tokenize(text)\n",
    "# Remove stop words and short words\n",
    "        if self.remove_stopwords:\n",
    "            tokens = [token for token in tokens\n",
    "                      if token not in self.stop_words and len(token) >= self.min_length]\n",
    "        else:\n",
    "            tokens = [token for token in tokens if len(token) >= self.min_length]\n",
    "# Lemmatize the tokens\n",
    "        if self.lemmatize:\n",
    "            tokens = [self.lemmatizer.lemmatize(token) for token in tokens]\n",
    "\n",
    "        return ' '.join(tokens)\n",
    "\n",
    "# Function to Fit the Vectorizer\n",
    "def fit(self, X, y=None):\n",
    "# Extract text data from input\n",
    "        text_data = self._extract_text_from_input(X)\n",
    "# Clean and preprocess the tweets\n",
    "        processed_texts = []\n",
    "        for text in text_data:\n",
    "            cleaned = self.clean_text(text)\n",
    "            preprocessed = self.preprocess_text(cleaned)\n",
    "            processed_texts.append(preprocessed)\n",
    "# Automatically adjust parameters for small datasets\n",
    "        n_docs = len(processed_texts)\n",
    "        min_df = min(self.tfidf_min_df, max(1, n_docs // 100))  # At least 1, at most n_docs/100\n",
    "        max_df = min(self.tfidf_max_df, 1.0)  # Ensure max_df is never > 1.0\n",
    "# Ensure min_df does not exceed reasonable bounds\n",
    "        if min_df >= n_docs * max_df:\n",
    "            min_df = 1\n",
    "            max_df = 1.0\n",
    "\n",
    "# Fit the TF-IDF Vectorizer\n",
    "        if self.use_tfidf:\n",
    "            self.vectorizer = TfidfVectorizer(\n",
    "                max_features=self.tfidf_max_features,\n",
    "                ngram_range=self.tfidf_ngram_range,\n",
    "                min_df=min_df,\n",
    "                max_df=max_df,\n",
    "                stop_words='english'\n",
    "            )\n",
    "        else:\n",
    "            self.vectorizer = CountVectorizer(\n",
    "                max_features=self.tfidf_max_features,\n",
    "                ngram_range=self.tfidf_ngram_range,\n",
    "                min_df=min_df,\n",
    "                max_df=max_df,\n",
    "                stop_words='english'\n",
    "            )\n",
    "        self.vectorizer.fit(processed_texts)\n",
    "\n",
    "        return self\n",
    "\n",
    "# Function to transform the data\n",
    "def transform(self, X):\n",
    "# Check for fitted vectorizer\n",
    "        if self.vectorizer is None:\n",
    "            raise ValueError(\"Preprocessor has not been fitted yet. Call fit() first.\")\n",
    "# Extract text data from input\n",
    "        text_data = self._extract_text_from_input(X)\n",
    "# Process all the tweets\n",
    "        processed_texts = []\n",
    "        for text in text_data:\n",
    "            cleaned = self.clean_text(text)\n",
    "            preprocessed = self.preprocess_text(cleaned)\n",
    "            processed_texts.append(preprocessed)\n",
    "# Transform using the fitted vectorizer\n",
    "        return self.vectorizer.transform(processed_texts)\n",
    "\n",
    "# Fit_transform Function\n",
    "def fit_transform(self, X, y=None):\n",
    "     return self.fit(X, y).transform(X)\n",
    "\n",
    "# Function to Get Feature Names\n",
    "def get_feature_names_out(self, input_features=None):\n",
    "     if self.vectorizer is None:\n",
    "            raise ValueError(\"Preprocessor has not been fitted yet. Call fit() first\")\n",
    "        \n",
    "     return self.vectorizer.get_feature_names_out()\n",
    "\n",
    "# Function to Get the Vocabulary\n",
    "def get_vocabulary(self):\n",
    "     if self.vectorizer is None:\n",
    "            raise ValueError(\"Preprocessor has not been fitted yet. Call fit() first\")\n",
    "        \n",
    "     return self.vectorizer.vocabulary_"
   ]
  },
  {
   "cell_type": "markdown",
   "id": "79a714b3",
   "metadata": {},
   "source": [
    "### 3.2 Data Cleaning Overview\n",
    "\n",
    "This step applied rule based normalization to remove noise and standardize surface form:\n",
    "\n",
    "- Removed URLs, @mentions and hashtags.\n",
    "\n",
    "- Expanded common contractions. An example is can’t to cannot.\n",
    "\n",
    "- Reduced repeated characters. For example goooood to good.\n",
    "\n",
    "- Dropped non-alphabetic symbols. An example is collapse repeated ! and ?\n",
    "\n",
    "- Normalized whitespace and trim.\n",
    "\n",
    "This resulted in readable and de-noised text ready for linguistic processing.\n"
   ]
  },
  {
   "cell_type": "markdown",
   "id": "1e7b219f",
   "metadata": {},
   "source": [
    "### 3.3 Text Preprocessing Overview\n",
    "\n",
    "This step standardized tokens to reduce sparsity and improve generalization:\n",
    "\n",
    "- Converted to lowercase.\n",
    "\n",
    "- Tokenized into words.\n",
    "\n",
    "- Removed stopwords and very short tokens.\n",
    "\n",
    "- Lemmatized to base forms. For example running to run.\n",
    "\n",
    "This resulted in compact and cleaner token sequences.\n"
   ]
  },
  {
   "cell_type": "markdown",
   "id": "b5fb082d",
   "metadata": {},
   "source": [
    "### 3.4 Feature Extraction Overview\n",
    "\n",
    "This step converted preprocessed text into numeric features:\n",
    "\n",
    "- TF-IDF (default) or CountVectorizer.\n",
    "\n",
    "- Configurable n-gram range max features and document-frequency bounds to balance coverage vs. sparsity.\n",
    "\n",
    "- Returned a sparse matrix suitable for model training and evaluation.\n",
    "\n",
    "This resulted in informative vectors aligned to modeling requirements.\n"
   ]
  },
  {
   "cell_type": "markdown",
   "id": "b66c2c61",
   "metadata": {},
   "source": [
    "### 3.5 Pipeline Integration Overview\n",
    "\n",
    "- The class is compatible with scikit-learn pipelines. This enabled seamless integration with machine learning workflows.\n",
    "\n",
    "- It provided methods for fitting, transforming and retrieving feature names and vocabulary."
   ]
  },
  {
   "cell_type": "markdown",
   "id": "8e3645ca",
   "metadata": {},
   "source": [
    "This preprocessing pipeline systematically cleaned the raw tweets and transformed them into robust, model-ready features, improving the quality and effectiveness of downstream sentiment classification."
   ]
  }
 ],
 "metadata": {
  "kernelspec": {
   "display_name": "base",
   "language": "python",
   "name": "python3"
  },
  "language_info": {
   "codemirror_mode": {
    "name": "ipython",
    "version": 3
   },
   "file_extension": ".py",
   "mimetype": "text/x-python",
   "name": "python",
   "nbconvert_exporter": "python",
   "pygments_lexer": "ipython3",
   "version": "3.13.7"
  }
 },
 "nbformat": 4,
 "nbformat_minor": 5
}
