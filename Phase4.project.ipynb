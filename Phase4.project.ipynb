{
 "cells": [
  {
   "cell_type": "markdown",
   "id": "be6ee9ac-802e-4d13-9716-72fc170d9776",
   "metadata": {},
   "source": [
    "__<span style=\"font-size: 35px;\">Apple and Google Products Tweet Classification</span>__   \n",
    "\n",
    "---\n",
    "\n",
    "__<font size=\"6\">1. Business Understanding</font>__   \n",
    "\n",
    "***<span style=\"font-size: 24px;\">1.1 Overview</span>***\n",
    "\n",
    "Apple and Google are global technology companies which offer a variety of electronic products and software services. Like any big company there is public opinion of the products and services they bring to the market. As leaders in the competitive tech industry, their operations depend heavily on customer satisfaction and public perception of their brands.Customer sentiment plays a key role for both companies. Negative opinions expressed online can affect brand image and influence purchasing decisions. By analyzing customer feedback from social media platforms such as Twitter, these companies can gain insights into how users feel about their products and services. This can help identify areas for improvement, respond to customer concerns and strengthen their brand reputation.\n",
    "\n",
    " \n",
    "\n",
    "\n",
    "---\n",
    "\n",
    "***<span style=\"font-size: 24px;\">1.2 Problem Statement</span>*** \n",
    "\n",
    "Apple and Google’s success rely heavily on maintaining strong customer satisfaction and positive public perception. With users actively sharing opinions on Twitter, analyzing this feedback has become important for improving products and strengthening brand reputation.\n",
    "The main challenge is effectively analyzing this data to understand customer sentiment. To address this, this project builds a sentiment analysis model that classifies tweets about Apple and Google products into positive, negative or neutral categories. \n",
    "\n",
    "---\n",
    "\n",
    "***<span style=\"font-size: 24px;\">1.3 Business Objective</span>*** \n",
    "\n",
    "**Main Objective** \n",
    "\n",
    "The main objective of this project is to develop a sentiment classification model that analyzes tweets about Apple and Google products and classifies them as positive, negative or neutral.\n",
    "\n",
    "\n",
    "**Specific Objectives**  \n",
    "The specific objectives of the project are:\n",
    "1. Determine the products and services from Apple or Google  that have the  largest  negative, positive and neutral feedback.\n",
    "2. Preprocess the data through processes such as; Vectorization and tokenization, handling missing values, and creating new features with respect to user behavior.\n",
    "3. Evaluate the model  performance using Precison, Recall, and F1score.\n",
    "4. Identify the most signficant features and important tokens.\n",
    "5. Compare different classification models to determine which performs best for this dataset.\n",
    "\n",
    "\n",
    "---\n",
    "\n",
    "***<span style=\"font-size: 24px;\">1.4 Research Questions</span>***   \n",
    "1. Which products have the largest negative, positive and neutral feedbak?\n",
    "2. Which features influence user behavior?\n",
    "3. Which classifier model had the best Precison, Recall and F1 score?\n",
    "\n",
    "\n",
    "---\n",
    "\n",
    "***<span style=\"font-size: 24px;\">1.5 Success Criteria</span>***    \n",
    "\n",
    "The success of this project will be assessed in three ways:\n",
    "1. It should generate insights into how users feel about their products and services.\n",
    "2. We should successfully develop a machine learning model that automatically determines the sentiment of a tweet based on words and tone used in the text.\n",
    " \n",
    "\n",
    "\n",
    "\n",
    "---\n"
   ]
  },
  {
   "cell_type": "markdown",
   "id": "e26055e3-1c5d-4d64-b8ab-935ae0241563",
   "metadata": {},
   "source": [
    "__<font size=\"6\">2. Data Understanding</font>__  "
   ]
  },
  {
   "cell_type": "markdown",
   "id": "d5c6ac4b-268c-4741-b110-db22cef70b62",
   "metadata": {},
   "source": [
    "The dataset was sourced from CrowdFlower. It contains over 9000 tweets showing customer sentiments towards Apple or Google products."
   ]
  },
  {
   "cell_type": "markdown",
   "id": "39dc39ef-a7b8-40cb-acc2-e60aea4741e4",
   "metadata": {},
   "source": [
    "It consists of 9093 rows and 3 columns."
   ]
  },
  {
   "cell_type": "markdown",
   "id": "c9200d7c",
   "metadata": {},
   "source": [
    "# Data loading and Inspection\n",
    "\n",
    "The Twitter sentiment dataset is loades from a CSV files into Pandas DataFrame. We perform basic inspection "
   ]
  },
  {
   "cell_type": "code",
   "execution_count": 374,
   "id": "090dca8e-f7d5-49cc-9da8-00c382b980a3",
   "metadata": {},
   "outputs": [
    {
     "data": {
      "text/html": [
       "<div>\n",
       "<style scoped>\n",
       "    .dataframe tbody tr th:only-of-type {\n",
       "        vertical-align: middle;\n",
       "    }\n",
       "\n",
       "    .dataframe tbody tr th {\n",
       "        vertical-align: top;\n",
       "    }\n",
       "\n",
       "    .dataframe thead th {\n",
       "        text-align: right;\n",
       "    }\n",
       "</style>\n",
       "<table border=\"1\" class=\"dataframe\">\n",
       "  <thead>\n",
       "    <tr style=\"text-align: right;\">\n",
       "      <th></th>\n",
       "      <th>tweet_text</th>\n",
       "      <th>emotion_in_tweet_is_directed_at</th>\n",
       "      <th>is_there_an_emotion_directed_at_a_brand_or_product</th>\n",
       "    </tr>\n",
       "  </thead>\n",
       "  <tbody>\n",
       "    <tr>\n",
       "      <th>0</th>\n",
       "      <td>.@wesley83 I have a 3G iPhone. After 3 hrs twe...</td>\n",
       "      <td>iPhone</td>\n",
       "      <td>Negative emotion</td>\n",
       "    </tr>\n",
       "    <tr>\n",
       "      <th>1</th>\n",
       "      <td>@jessedee Know about @fludapp ? Awesome iPad/i...</td>\n",
       "      <td>iPad or iPhone App</td>\n",
       "      <td>Positive emotion</td>\n",
       "    </tr>\n",
       "    <tr>\n",
       "      <th>2</th>\n",
       "      <td>@swonderlin Can not wait for #iPad 2 also. The...</td>\n",
       "      <td>iPad</td>\n",
       "      <td>Positive emotion</td>\n",
       "    </tr>\n",
       "    <tr>\n",
       "      <th>3</th>\n",
       "      <td>@sxsw I hope this year's festival isn't as cra...</td>\n",
       "      <td>iPad or iPhone App</td>\n",
       "      <td>Negative emotion</td>\n",
       "    </tr>\n",
       "    <tr>\n",
       "      <th>4</th>\n",
       "      <td>@sxtxstate great stuff on Fri #SXSW: Marissa M...</td>\n",
       "      <td>Google</td>\n",
       "      <td>Positive emotion</td>\n",
       "    </tr>\n",
       "  </tbody>\n",
       "</table>\n",
       "</div>"
      ],
      "text/plain": [
       "                                          tweet_text  \\\n",
       "0  .@wesley83 I have a 3G iPhone. After 3 hrs twe...   \n",
       "1  @jessedee Know about @fludapp ? Awesome iPad/i...   \n",
       "2  @swonderlin Can not wait for #iPad 2 also. The...   \n",
       "3  @sxsw I hope this year's festival isn't as cra...   \n",
       "4  @sxtxstate great stuff on Fri #SXSW: Marissa M...   \n",
       "\n",
       "  emotion_in_tweet_is_directed_at  \\\n",
       "0                          iPhone   \n",
       "1              iPad or iPhone App   \n",
       "2                            iPad   \n",
       "3              iPad or iPhone App   \n",
       "4                          Google   \n",
       "\n",
       "  is_there_an_emotion_directed_at_a_brand_or_product  \n",
       "0                                   Negative emotion  \n",
       "1                                   Positive emotion  \n",
       "2                                   Positive emotion  \n",
       "3                                   Negative emotion  \n",
       "4                                   Positive emotion  "
      ]
     },
     "execution_count": 374,
     "metadata": {},
     "output_type": "execute_result"
    }
   ],
   "source": [
    "# import pandas \n",
    "import pandas as pd\n",
    "# uploading a dataset\n",
    "data=pd.read_csv('judge-1377884607_tweet_product_company.csv', encoding='ISO-8859-1')\n",
    "\n",
    "# display the first five rows of the dataset\n",
    "data.head()"
   ]
  },
  {
   "cell_type": "markdown",
   "id": "65604422",
   "metadata": {},
   "source": [
    "The columns include:\n",
    "1. `tweet_text`: The text content of the tweet used dor classification\n",
    "2. `motion_in_tweet_is_directed_at`: The company which the tweet is expressed to\n",
    "3. `is_there_an_emotion_directe_at_a_brand_or_product`: serves as the target label of classification. Indicates the emotion expressed at a brand or product."
   ]
  },
  {
   "cell_type": "code",
   "execution_count": 375,
   "id": "8b15cd9e",
   "metadata": {},
   "outputs": [
    {
     "data": {
      "text/plain": [
       "(9093, 3)"
      ]
     },
     "execution_count": 375,
     "metadata": {},
     "output_type": "execute_result"
    }
   ],
   "source": [
    "# check the shape of the dataset\n",
    "data.shape"
   ]
  },
  {
   "cell_type": "markdown",
   "id": "38cccae0",
   "metadata": {},
   "source": [
    "-  Dataset has 9093 rows and 3 columns"
   ]
  },
  {
   "cell_type": "code",
   "execution_count": 376,
   "id": "e80ce1b4-2aff-4836-aff8-0c244482e218",
   "metadata": {},
   "outputs": [
    {
     "name": "stdout",
     "output_type": "stream",
     "text": [
      "<class 'pandas.core.frame.DataFrame'>\n",
      "RangeIndex: 9093 entries, 0 to 9092\n",
      "Data columns (total 3 columns):\n",
      " #   Column                                              Non-Null Count  Dtype \n",
      "---  ------                                              --------------  ----- \n",
      " 0   tweet_text                                          9092 non-null   object\n",
      " 1   emotion_in_tweet_is_directed_at                     3291 non-null   object\n",
      " 2   is_there_an_emotion_directed_at_a_brand_or_product  9093 non-null   object\n",
      "dtypes: object(3)\n",
      "memory usage: 213.2+ KB\n"
     ]
    }
   ],
   "source": [
    "# display data types\n",
    "data.info()"
   ]
  },
  {
   "cell_type": "markdown",
   "id": "e7a9fca6",
   "metadata": {},
   "source": [
    "- All columns are the object data type."
   ]
  },
  {
   "cell_type": "code",
   "execution_count": 377,
   "id": "129ef6ae",
   "metadata": {},
   "outputs": [
    {
     "data": {
      "text/plain": [
       "tweet_text                                               1\n",
       "emotion_in_tweet_is_directed_at                       5802\n",
       "is_there_an_emotion_directed_at_a_brand_or_product       0\n",
       "dtype: int64"
      ]
     },
     "execution_count": 377,
     "metadata": {},
     "output_type": "execute_result"
    }
   ],
   "source": [
    "data.isnull().sum()"
   ]
  },
  {
   "cell_type": "markdown",
   "id": "686c7cab",
   "metadata": {},
   "source": [
    "The `emotion_in_tweet_is_directed_at` column has 5802 missing values. "
   ]
  },
  {
   "cell_type": "markdown",
   "id": "9b46f449",
   "metadata": {},
   "source": [
    "Renaming the columns, in order to understand them better and flexibility"
   ]
  },
  {
   "cell_type": "code",
   "execution_count": 378,
   "id": "ddd5f44c",
   "metadata": {},
   "outputs": [
    {
     "data": {
      "text/html": [
       "<div>\n",
       "<style scoped>\n",
       "    .dataframe tbody tr th:only-of-type {\n",
       "        vertical-align: middle;\n",
       "    }\n",
       "\n",
       "    .dataframe tbody tr th {\n",
       "        vertical-align: top;\n",
       "    }\n",
       "\n",
       "    .dataframe thead th {\n",
       "        text-align: right;\n",
       "    }\n",
       "</style>\n",
       "<table border=\"1\" class=\"dataframe\">\n",
       "  <thead>\n",
       "    <tr style=\"text-align: right;\">\n",
       "      <th></th>\n",
       "      <th>tweet</th>\n",
       "      <th>tweet_directed_at</th>\n",
       "      <th>sentiment</th>\n",
       "    </tr>\n",
       "  </thead>\n",
       "  <tbody>\n",
       "    <tr>\n",
       "      <th>0</th>\n",
       "      <td>.@wesley83 I have a 3G iPhone. After 3 hrs twe...</td>\n",
       "      <td>iPhone</td>\n",
       "      <td>Negative emotion</td>\n",
       "    </tr>\n",
       "    <tr>\n",
       "      <th>1</th>\n",
       "      <td>@jessedee Know about @fludapp ? Awesome iPad/i...</td>\n",
       "      <td>iPad or iPhone App</td>\n",
       "      <td>Positive emotion</td>\n",
       "    </tr>\n",
       "    <tr>\n",
       "      <th>2</th>\n",
       "      <td>@swonderlin Can not wait for #iPad 2 also. The...</td>\n",
       "      <td>iPad</td>\n",
       "      <td>Positive emotion</td>\n",
       "    </tr>\n",
       "    <tr>\n",
       "      <th>3</th>\n",
       "      <td>@sxsw I hope this year's festival isn't as cra...</td>\n",
       "      <td>iPad or iPhone App</td>\n",
       "      <td>Negative emotion</td>\n",
       "    </tr>\n",
       "    <tr>\n",
       "      <th>4</th>\n",
       "      <td>@sxtxstate great stuff on Fri #SXSW: Marissa M...</td>\n",
       "      <td>Google</td>\n",
       "      <td>Positive emotion</td>\n",
       "    </tr>\n",
       "  </tbody>\n",
       "</table>\n",
       "</div>"
      ],
      "text/plain": [
       "                                               tweet   tweet_directed_at  \\\n",
       "0  .@wesley83 I have a 3G iPhone. After 3 hrs twe...              iPhone   \n",
       "1  @jessedee Know about @fludapp ? Awesome iPad/i...  iPad or iPhone App   \n",
       "2  @swonderlin Can not wait for #iPad 2 also. The...                iPad   \n",
       "3  @sxsw I hope this year's festival isn't as cra...  iPad or iPhone App   \n",
       "4  @sxtxstate great stuff on Fri #SXSW: Marissa M...              Google   \n",
       "\n",
       "          sentiment  \n",
       "0  Negative emotion  \n",
       "1  Positive emotion  \n",
       "2  Positive emotion  \n",
       "3  Negative emotion  \n",
       "4  Positive emotion  "
      ]
     },
     "execution_count": 378,
     "metadata": {},
     "output_type": "execute_result"
    }
   ],
   "source": [
    "# rename the columns in the dataset\n",
    "def rename_columns(df):\n",
    "   df.columns = ['tweet', 'tweet_directed_at', 'sentiment']\n",
    "   return df\n",
    "\n",
    "data= rename_columns(data)\n",
    "data.head()"
   ]
  },
  {
   "cell_type": "code",
   "execution_count": 379,
   "id": "6aebb87b-899e-4f6c-85ce-9a97b505501a",
   "metadata": {},
   "outputs": [
    {
     "data": {
      "text/plain": [
       "sentiment\n",
       "No emotion toward brand or product    5389\n",
       "Positive emotion                      2978\n",
       "Negative emotion                       570\n",
       "I can't tell                           156\n",
       "Name: count, dtype: int64"
      ]
     },
     "execution_count": 379,
     "metadata": {},
     "output_type": "execute_result"
    }
   ],
   "source": [
    "# Check the unique values in 'sentiment'\n",
    "data['sentiment'].value_counts()"
   ]
  },
  {
   "cell_type": "markdown",
   "id": "fbcadcc8",
   "metadata": {},
   "source": [
    "- The dataset contains four sentiment categories: `Positive emotion`, `Nefative Emotion`, `No emotion toward the brand or product` and `I can't tell`\n",
    "\n",
    "- We Merge `No emotion toward the brand or product` and `I can't tell` into `Neutral emotion` category"
   ]
  },
  {
   "cell_type": "code",
   "execution_count": 380,
   "id": "be42d88a",
   "metadata": {},
   "outputs": [
    {
     "name": "stdout",
     "output_type": "stream",
     "text": [
      "Unique Sentiments:\n",
      "['Negative emotion' 'Positive emotion' 'Neutral emotion']\n"
     ]
    }
   ],
   "source": [
    "# Combine the 'No emotion toward brand or product' and 'I can't tell' into a single category\n",
    "data['sentiment'] = data['sentiment'].replace(\n",
    "    {\n",
    "        \"No emotion toward brand or product\": \"Neutral emotion\",\n",
    "        \"I can't tell\": \"Neutral emotion\",\n",
    "    }\n",
    ")\n",
    "\n",
    "# check the unique values in the sentiment column\n",
    "print(\"Unique Sentiments:\")\n",
    "print(data['sentiment'].unique())"
   ]
  },
  {
   "cell_type": "markdown",
   "id": "944d4953",
   "metadata": {},
   "source": [
    "Checking for missing values an duplicate values in the dataset"
   ]
  },
  {
   "cell_type": "code",
   "execution_count": 381,
   "id": "3ff0bd1c",
   "metadata": {},
   "outputs": [
    {
     "data": {
      "text/plain": [
       "tweet                   1\n",
       "tweet_directed_at    5802\n",
       "sentiment               0\n",
       "dtype: int64"
      ]
     },
     "execution_count": 381,
     "metadata": {},
     "output_type": "execute_result"
    }
   ],
   "source": [
    "# checking for missing value\n",
    "data.isna().sum()"
   ]
  },
  {
   "cell_type": "markdown",
   "id": "bcf6ecac",
   "metadata": {},
   "source": [
    "- The `tweet_directed_at_columns` has numerous missing values. They are replaced with the string `Not directed` "
   ]
  },
  {
   "cell_type": "code",
   "execution_count": 382,
   "id": "72aee91f",
   "metadata": {},
   "outputs": [],
   "source": [
    "import warnings\n",
    "warnings.filterwarnings('ignore')"
   ]
  },
  {
   "cell_type": "code",
   "execution_count": 383,
   "id": "4a93f315",
   "metadata": {},
   "outputs": [
    {
     "data": {
      "text/plain": [
       "tweet                0\n",
       "tweet_directed_at    0\n",
       "sentiment            0\n",
       "dtype: int64"
      ]
     },
     "execution_count": 383,
     "metadata": {},
     "output_type": "execute_result"
    }
   ],
   "source": [
    "# Fill the missing values in 'tweet_directed_at' column with 'Not directed'\n",
    "data['tweet_directed_at'].fillna('Not directed', inplace=True)\n",
    "\n",
    "# Drop the missing value in 'tweet' column\n",
    "data.dropna(subset=['tweet'], inplace=True, axis=0)\n",
    "\n",
    "# Check again for missing values\n",
    "data.isna().sum()"
   ]
  },
  {
   "cell_type": "markdown",
   "id": "a2034509",
   "metadata": {},
   "source": [
    "- Next Check for duplicate rows"
   ]
  },
  {
   "cell_type": "code",
   "execution_count": 384,
   "id": "bcbde6b0",
   "metadata": {},
   "outputs": [
    {
     "data": {
      "text/plain": [
       "22"
      ]
     },
     "execution_count": 384,
     "metadata": {},
     "output_type": "execute_result"
    }
   ],
   "source": [
    "#check for duplicate values\n",
    "data.duplicated().sum()"
   ]
  },
  {
   "cell_type": "markdown",
   "id": "96181731",
   "metadata": {},
   "source": [
    "- There are 22 duplicate rows in the dataset. Drop the duplicated entirely"
   ]
  },
  {
   "cell_type": "code",
   "execution_count": 385,
   "id": "bda9a6d9",
   "metadata": {},
   "outputs": [
    {
     "data": {
      "text/plain": [
       "0"
      ]
     },
     "execution_count": 385,
     "metadata": {},
     "output_type": "execute_result"
    }
   ],
   "source": [
    "# Drop the duplicate rows\n",
    "data.drop_duplicates(inplace=True)\n",
    "data.duplicated().sum()"
   ]
  },
  {
   "cell_type": "markdown",
   "id": "5f6a56e4",
   "metadata": {},
   "source": [
    "fetch the summary statistics of the data"
   ]
  },
  {
   "cell_type": "code",
   "execution_count": 386,
   "id": "34e19bae",
   "metadata": {},
   "outputs": [
    {
     "data": {
      "text/html": [
       "<div>\n",
       "<style scoped>\n",
       "    .dataframe tbody tr th:only-of-type {\n",
       "        vertical-align: middle;\n",
       "    }\n",
       "\n",
       "    .dataframe tbody tr th {\n",
       "        vertical-align: top;\n",
       "    }\n",
       "\n",
       "    .dataframe thead th {\n",
       "        text-align: right;\n",
       "    }\n",
       "</style>\n",
       "<table border=\"1\" class=\"dataframe\">\n",
       "  <thead>\n",
       "    <tr style=\"text-align: right;\">\n",
       "      <th></th>\n",
       "      <th>tweet</th>\n",
       "      <th>tweet_directed_at</th>\n",
       "      <th>sentiment</th>\n",
       "    </tr>\n",
       "  </thead>\n",
       "  <tbody>\n",
       "    <tr>\n",
       "      <th>count</th>\n",
       "      <td>9070</td>\n",
       "      <td>9070</td>\n",
       "      <td>9070</td>\n",
       "    </tr>\n",
       "    <tr>\n",
       "      <th>unique</th>\n",
       "      <td>9065</td>\n",
       "      <td>10</td>\n",
       "      <td>3</td>\n",
       "    </tr>\n",
       "    <tr>\n",
       "      <th>top</th>\n",
       "      <td>RT @mention RT @mention It's not a rumor: Appl...</td>\n",
       "      <td>Not directed</td>\n",
       "      <td>Neutral emotion</td>\n",
       "    </tr>\n",
       "    <tr>\n",
       "      <th>freq</th>\n",
       "      <td>2</td>\n",
       "      <td>5788</td>\n",
       "      <td>5531</td>\n",
       "    </tr>\n",
       "  </tbody>\n",
       "</table>\n",
       "</div>"
      ],
      "text/plain": [
       "                                                    tweet tweet_directed_at  \\\n",
       "count                                                9070              9070   \n",
       "unique                                               9065                10   \n",
       "top     RT @mention RT @mention It's not a rumor: Appl...      Not directed   \n",
       "freq                                                    2              5788   \n",
       "\n",
       "              sentiment  \n",
       "count              9070  \n",
       "unique                3  \n",
       "top     Neutral emotion  \n",
       "freq               5531  "
      ]
     },
     "execution_count": 386,
     "metadata": {},
     "output_type": "execute_result"
    }
   ],
   "source": [
    "data.describe()"
   ]
  },
  {
   "cell_type": "markdown",
   "id": "8ad14936",
   "metadata": {},
   "source": [
    "## Data Preprocessinng"
   ]
  },
  {
   "cell_type": "code",
   "execution_count": 387,
   "id": "c2986c2d",
   "metadata": {},
   "outputs": [],
   "source": [
    "# filtering based on complex patterns\n",
    "\n",
    "import re\n",
    "from nltk.tokenize import RegexpTokenizer\n",
    "from nltk.corpus import stopwords\n",
    "from nltk.stem import PorterStemmer\n",
    "from nltk.stem import WordNetLemmatizer\n",
    "import string\n",
    "# create a regex pattern that joins the stopwords together\n",
    "\n",
    "tokenizer = RegexpTokenizer(r\"[a-zA-Z]+(?:'[a-z]+)?\")\n",
    "\n",
    "# create a list of stopword in english\n",
    "stopwords_list = set(stopwords.words('english'))\n",
    "\n",
    "# stemming (reducing words to their root form)\n",
    "stemmer = PorterStemmer()\n",
    "\n"
   ]
  },
  {
   "cell_type": "markdown",
   "id": "3771812c",
   "metadata": {},
   "source": [
    "### Lowercasing & punctuation removal + tokenization"
   ]
  },
  {
   "cell_type": "code",
   "execution_count": 388,
   "id": "3433efc0",
   "metadata": {},
   "outputs": [],
   "source": [
    "\n",
    "# preprocessung data\n",
    "def preprocess_text(text,tokenizer,stopwords_list,stemmer):\n",
    "   if not isinstance(text, str):\n",
    "        return \"\"\n",
    "   # standardise case(lower case)\n",
    "   text = text.lower()\n",
    "   # remove URLs\n",
    "   text = re.sub(r\"http\\S+|www\\S+|https\\S+\", '', text) \n",
    "   # remove hashtags and mentions\n",
    "   text = re.sub(r'@\\w+|#\\w+','', text)\n",
    "\n",
    "   # tokenize \n",
    "   tokens = tokenizer.tokenize(text)\n",
    "   # remove stopword using stopwords_list\n",
    "   filtered_tokens = [word for word in tokens if word not in stopwords_list]\n",
    "   \n",
    "   # Remove punctuation using regex\n",
    "   cleaned_tokens = [re.sub(r\"[^\\w\\s]\", \"\", word) for word in filtered_tokens if re.sub(r\"[^\\w\\s]\", \"\", word) != \"\"]\n",
    "   \n",
    "   # stem the tokenized text using stemmer\n",
    "   stemmed_tokens = [stemmer.stem(word) for word in cleaned_tokens]\n",
    "\n",
    "   # return the preprocessed text\n",
    "   return stemmed_tokens"
   ]
  },
  {
   "cell_type": "code",
   "execution_count": 389,
   "id": "968a4c24",
   "metadata": {},
   "outputs": [
    {
     "data": {
      "text/plain": [
       "0       [g, iphon, hr, tweet, dead, need, upgrad, plug...\n",
       "1       [know, awesom, ipad, iphon, app, like, appreci...\n",
       "2                                      [wait, also, sale]\n",
       "3          [hope, year, festiv, crashi, year, iphon, app]\n",
       "4       [great, stuff, fri, marissa, mayer, googl, tim...\n",
       "                              ...                        \n",
       "9088                              [ipad, everywher, link]\n",
       "9089    [wave, buzz, rt, interrupt, regularli, schedul...\n",
       "9090    [googl, zeiger, physician, never, report, pote...\n",
       "9091    [verizon, iphon, custom, complain, time, fell,...\n",
       "9092                [rt, googl, test, check, offer, link]\n",
       "Name: tweet, Length: 9070, dtype: object"
      ]
     },
     "execution_count": 389,
     "metadata": {},
     "output_type": "execute_result"
    }
   ],
   "source": [
    "text_data = data.tweet.apply(lambda x: preprocess_text(x, tokenizer, stopwords_list,stemmer))\n",
    "text_data"
   ]
  },
  {
   "cell_type": "code",
   "execution_count": 390,
   "id": "3bcdd3eb",
   "metadata": {},
   "outputs": [
    {
     "data": {
      "text/html": [
       "<div>\n",
       "<style scoped>\n",
       "    .dataframe tbody tr th:only-of-type {\n",
       "        vertical-align: middle;\n",
       "    }\n",
       "\n",
       "    .dataframe tbody tr th {\n",
       "        vertical-align: top;\n",
       "    }\n",
       "\n",
       "    .dataframe thead th {\n",
       "        text-align: right;\n",
       "    }\n",
       "</style>\n",
       "<table border=\"1\" class=\"dataframe\">\n",
       "  <thead>\n",
       "    <tr style=\"text-align: right;\">\n",
       "      <th></th>\n",
       "      <th>tweet</th>\n",
       "      <th>tweet_directed_at</th>\n",
       "      <th>sentiment</th>\n",
       "      <th>preprocessed_text</th>\n",
       "    </tr>\n",
       "  </thead>\n",
       "  <tbody>\n",
       "    <tr>\n",
       "      <th>0</th>\n",
       "      <td>.@wesley83 I have a 3G iPhone. After 3 hrs twe...</td>\n",
       "      <td>iPhone</td>\n",
       "      <td>Negative emotion</td>\n",
       "      <td>[g, iphon, hr, tweet, dead, need, upgrad, plug...</td>\n",
       "    </tr>\n",
       "    <tr>\n",
       "      <th>1</th>\n",
       "      <td>@jessedee Know about @fludapp ? Awesome iPad/i...</td>\n",
       "      <td>iPad or iPhone App</td>\n",
       "      <td>Positive emotion</td>\n",
       "      <td>[know, awesom, ipad, iphon, app, like, appreci...</td>\n",
       "    </tr>\n",
       "    <tr>\n",
       "      <th>2</th>\n",
       "      <td>@swonderlin Can not wait for #iPad 2 also. The...</td>\n",
       "      <td>iPad</td>\n",
       "      <td>Positive emotion</td>\n",
       "      <td>[wait, also, sale]</td>\n",
       "    </tr>\n",
       "    <tr>\n",
       "      <th>3</th>\n",
       "      <td>@sxsw I hope this year's festival isn't as cra...</td>\n",
       "      <td>iPad or iPhone App</td>\n",
       "      <td>Negative emotion</td>\n",
       "      <td>[hope, year, festiv, crashi, year, iphon, app]</td>\n",
       "    </tr>\n",
       "    <tr>\n",
       "      <th>4</th>\n",
       "      <td>@sxtxstate great stuff on Fri #SXSW: Marissa M...</td>\n",
       "      <td>Google</td>\n",
       "      <td>Positive emotion</td>\n",
       "      <td>[great, stuff, fri, marissa, mayer, googl, tim...</td>\n",
       "    </tr>\n",
       "  </tbody>\n",
       "</table>\n",
       "</div>"
      ],
      "text/plain": [
       "                                               tweet   tweet_directed_at  \\\n",
       "0  .@wesley83 I have a 3G iPhone. After 3 hrs twe...              iPhone   \n",
       "1  @jessedee Know about @fludapp ? Awesome iPad/i...  iPad or iPhone App   \n",
       "2  @swonderlin Can not wait for #iPad 2 also. The...                iPad   \n",
       "3  @sxsw I hope this year's festival isn't as cra...  iPad or iPhone App   \n",
       "4  @sxtxstate great stuff on Fri #SXSW: Marissa M...              Google   \n",
       "\n",
       "          sentiment                                  preprocessed_text  \n",
       "0  Negative emotion  [g, iphon, hr, tweet, dead, need, upgrad, plug...  \n",
       "1  Positive emotion  [know, awesom, ipad, iphon, app, like, appreci...  \n",
       "2  Positive emotion                                 [wait, also, sale]  \n",
       "3  Negative emotion     [hope, year, festiv, crashi, year, iphon, app]  \n",
       "4  Positive emotion  [great, stuff, fri, marissa, mayer, googl, tim...  "
      ]
     },
     "execution_count": 390,
     "metadata": {},
     "output_type": "execute_result"
    }
   ],
   "source": [
    "data[\"preprocessed_text\"] = text_data\n",
    "data.head()"
   ]
  },
  {
   "cell_type": "code",
   "execution_count": 394,
   "id": "742050e5",
   "metadata": {},
   "outputs": [
    {
     "data": {
      "image/png": "[encoded data removed]",
      "text/plain": [
       "<Figure size 1200x1200 with 3 Axes>"
      ]
     },
     "metadata": {},
     "output_type": "display_data"
    }
   ],
   "source": [
    "import matplotlib.pyplot as plt\n",
    "import seaborn as sns\n",
    "\n",
    "# Set up figure and axes\n",
    "fig, axes = plt.subplots(nrows=3, figsize=(12, 12))\n",
    "\n",
    "# Empty dict to hold words that have already been plotted and their colors\n",
    "plotted_words_and_colors = {}\n",
    "# Establish color palette to pull from\n",
    "# (If you get an error message about popping from an empty list, increase this #)\n",
    "color_palette = sns.color_palette('cividis', n_colors=38)\n",
    "\n",
    "# Creating a plot for each unique genre\n",
    "data_by_emotion = [y for _, y in data.groupby('sentiment', as_index=False)]\n",
    "for idx,emotion_df in enumerate(data_by_emotion):\n",
    "    # Find top 10 words in this genre\n",
    "    all_words_in_emotion = emotion_df.preprocessed_text.explode()\n",
    "    top_10 = all_words_in_emotion.value_counts()[:10]\n",
    "    \n",
    "    \n",
    "    # Select appropriate colors, reusing colors if words repeat\n",
    "    colors = []\n",
    "    for word in top_10.index:\n",
    "        if word not in plotted_words_and_colors:\n",
    "            new_color = color_palette.pop(0)\n",
    "            plotted_words_and_colors[word] = new_color\n",
    "        colors.append(plotted_words_and_colors[word])\n",
    "    \n",
    "    # Select axes, plot data, set title\n",
    "    ax = axes[idx]\n",
    "    ax.bar(top_10.index, top_10.values, color=colors)\n",
    "    ax.set_title(emotion_df.iloc[0].sentiment.title())\n",
    "    \n",
    "    \n",
    "    \n",
    "fig.tight_layout()"
   ]
  },
  {
   "cell_type": "code",
   "execution_count": 396,
   "id": "c157d0a4",
   "metadata": {},
   "outputs": [],
   "source": [
    "# join token list to string\n",
    "data[\"joined_preprocessed_text\"] = data[\"preprocessed_text\"].str.join(\" \")"
   ]
  },
  {
   "cell_type": "code",
   "execution_count": 397,
   "id": "4b21f5e4",
   "metadata": {},
   "outputs": [
    {
     "data": {
      "text/plain": [
       "0        g iphon hr tweet dead need upgrad plugin station\n",
       "1       know awesom ipad iphon app like appreci design...\n",
       "2                                          wait also sale\n",
       "3                  hope year festiv crashi year iphon app\n",
       "4       great stuff fri marissa mayer googl tim oreill...\n",
       "                              ...                        \n",
       "9088                                  ipad everywher link\n",
       "9089    wave buzz rt interrupt regularli schedul geek ...\n",
       "9090    googl zeiger physician never report potenti ae...\n",
       "9091    verizon iphon custom complain time fell back h...\n",
       "9092                       rt googl test check offer link\n",
       "Name: joined_preprocessed_text, Length: 9070, dtype: object"
      ]
     },
     "execution_count": 397,
     "metadata": {},
     "output_type": "execute_result"
    }
   ],
   "source": [
    "data[\"joined_preprocessed_text\"] "
   ]
  },
  {
   "cell_type": "markdown",
   "id": "a9febc52",
   "metadata": {},
   "source": [
    "### Fequency distribution and plotting"
   ]
  },
  {
   "cell_type": "code",
   "execution_count": 398,
   "id": "c87eef15",
   "metadata": {},
   "outputs": [],
   "source": [
    "from sklearn.feature_extraction.text import TfidfVectorizer\n",
    "\n",
    "vectorizer = TfidfVectorizer()\n",
    "\n",
    "X= vectorizer.fit_transform(data['joined_preprocessed_text'])\n",
    "y = data['sentiment']"
   ]
  },
  {
   "cell_type": "code",
   "execution_count": 399,
   "id": "e029ead3",
   "metadata": {},
   "outputs": [],
   "source": [
    "# train test split\n",
    "\n",
    "from sklearn.model_selection import train_test_split\n",
    "\n",
    "X_train, X_test, y_train, y_test = train_test_split(X, y, test_size=0.2, random_state=42)\n",
    "\n"
   ]
  },
  {
   "cell_type": "code",
   "execution_count": 400,
   "id": "aaa82a21",
   "metadata": {},
   "outputs": [
    {
     "name": "stdout",
     "output_type": "stream",
     "text": [
      "Naive Bayes Performance:\n",
      "                  precision    recall  f1-score   support\n",
      "\n",
      "Negative emotion       0.80      0.03      0.06       119\n",
      " Neutral emotion       0.68      0.94      0.79      1139\n",
      "Positive emotion       0.63      0.28      0.39       556\n",
      "\n",
      "        accuracy                           0.68      1814\n",
      "       macro avg       0.71      0.42      0.41      1814\n",
      "    weighted avg       0.68      0.68      0.62      1814\n",
      "\n"
     ]
    }
   ],
   "source": [
    "from sklearn.naive_bayes import MultinomialNB\n",
    "from sklearn.metrics import classification_report,accuracy_score\n",
    "\n",
    "nb = MultinomialNB()\n",
    "nb.fit(X_train, y_train)\n",
    "y_pred_nb = nb.predict(X_test)\n",
    "\n",
    "print(\"Naive Bayes Performance:\")\n",
    "print(classification_report(y_test, y_pred_nb, zero_division=0))\n"
   ]
  },
  {
   "cell_type": "code",
   "execution_count": 401,
   "id": "54687530",
   "metadata": {},
   "outputs": [
    {
     "data": {
      "text/plain": [
       "0.6764057331863286"
      ]
     },
     "execution_count": 401,
     "metadata": {},
     "output_type": "execute_result"
    }
   ],
   "source": [
    "accuracy_score(y_test,y_pred_nb)"
   ]
  },
  {
   "cell_type": "code",
   "execution_count": null,
   "id": "c783f781",
   "metadata": {},
   "outputs": [],
   "source": [
    "from nltk import bigrams\n",
    "\n",
    "\n",
    "   "
   ]
  }
 ],
 "metadata": {
  "kernelspec": {
   "display_name": "base",
   "language": "python",
   "name": "python3"
  },
  "language_info": {
   "codemirror_mode": {
    "name": "ipython",
    "version": 3
   },
   "file_extension": ".py",
   "mimetype": "text/x-python",
   "name": "python",
   "nbconvert_exporter": "python",
   "pygments_lexer": "ipython3",
   "version": "3.12.7"
  }
 },
 "nbformat": 4,
 "nbformat_minor": 5
}
